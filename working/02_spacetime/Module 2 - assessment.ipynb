{
 "cells": [
  {
   "cell_type": "markdown",
   "metadata": {},
   "source": [
    "# Stability"
   ]
  },
  {
   "cell_type": "markdown",
   "metadata": {},
   "source": [
    "CFL for 1d linear convection must be $<=1$.This means\n",
    "$$c\\frac{\\Delta{}t}{\\Delta{}x}\\leq1$$\n",
    "With this you can calculate $\\Delta{}x$\n",
    "$$\\Delta{}x\\leq\\frac{\\Delta{}x}{c}=\\frac{0.2}{4}$$"
   ]
  },
  {
   "cell_type": "code",
   "execution_count": 95,
   "metadata": {
    "collapsed": false
   },
   "outputs": [
    {
     "name": "stdout",
     "output_type": "stream",
     "text": [
      "x may not exceed 0.05\n"
     ]
    }
   ],
   "source": [
    "print('x may not exceed %.2f' % (0.2/4))"
   ]
  },
  {
   "cell_type": "markdown",
   "metadata": {},
   "source": [
    "# Sympy"
   ]
  },
  {
   "cell_type": "code",
   "execution_count": 94,
   "metadata": {
    "collapsed": false
   },
   "outputs": [
    {
     "name": "stdout",
     "output_type": "stream",
     "text": [
      "The value of phi at x=2.2 is -0.000266.\n"
     ]
    }
   ],
   "source": [
    "import numpy\n",
    "import sympy\n",
    "from matplotlib import pyplot\n",
    "%matplotlib inline\n",
    "from matplotlib import rcParams\n",
    "rcParams['font.family'] = 'serif'\n",
    "rcParams['font.size'] = 16\n",
    "\n",
    "\n",
    "\n",
    "\n",
    "from sympy import init_printing\n",
    "init_printing()\n",
    "\n",
    "from sympy.utilities.lambdify import lambdify\n",
    "\n",
    "x = sympy.symbols('x')\n",
    "\n",
    "phi = sympy.cos(x)**2*sympy.sin(x)**3/(4*x**5*sympy.exp(x))\n",
    "\n",
    "phiprime=phi.diff(x)\n",
    "\n",
    "phiprime\n",
    "\n",
    "philamb = lambdify((x),phiprime)\n",
    "\n",
    "print(\"The value of phi at x=2.2 is {:.6f}.\".format(philamb(2.2)))"
   ]
  },
  {
   "cell_type": "markdown",
   "metadata": {},
   "source": [
    "# Coding assignment: traffic flow"
   ]
  },
  {
   "cell_type": "markdown",
   "metadata": {},
   "source": [
    "$$F=V_{max}\\rho\\bigg(1-\\frac{\\rho}{\\rho_{max}}\\bigg)$$"
   ]
  },
  {
   "cell_type": "code",
   "execution_count": 93,
   "metadata": {
    "collapsed": false
   },
   "outputs": [
    {
     "name": "stdout",
     "output_type": "stream",
     "text": [
      "0 250 80 11 51 0.22 0.001\n",
      "Minimum velocity at t=0: 17.78\n",
      "Average velocity at t=0: 20.64\n",
      "50 250 80 11 51 0.22 0.001\n",
      "Minimum velocity at t=3: 18.16\n",
      "Average velocity at t=3: 20.64\n",
      "100 250 80 11 51 0.22 0.001\n",
      "Minimum velocity at t=6: 18.78\n",
      "Average velocity at t=6: 20.73\n"
     ]
    },
    {
     "data": {
      "image/png": "[encoded data removed]",
      "text/plain": [
       "<matplotlib.figure.Figure at 0x7fbcef9887b8>"
      ]
     },
     "metadata": {},
     "output_type": "display_data"
    }
   ],
   "source": [
    "from IPython import get_ipython\n",
    "get_ipython().magic('reset -sf')\n",
    "\n",
    "import numpy\n",
    "import sympy\n",
    "from matplotlib import pyplot\n",
    "%matplotlib inline\n",
    "from matplotlib import rcParams\n",
    "rcParams['font.family'] = 'serif'\n",
    "rcParams['font.size'] = 16\n",
    "\n",
    "from sympy import init_printing\n",
    "init_printing()\n",
    "\n",
    "from sympy.utilities.lambdify import lambdify\n",
    "\n",
    "\n",
    "nx = 51\n",
    "L=11   \n",
    "dt = 0.001  \n",
    "rhomax = 250\n",
    "vmax = 80\n",
    "\n",
    "x = numpy.linspace(0,L,nx)\n",
    "dx=x[1]-x[0]\n",
    "rho0 = numpy.ones(nx)*10\n",
    "rho0[10:20] = 50\n",
    "rho0[0]=10\n",
    "\n",
    "\n",
    "\n",
    "def traffic(t):\n",
    "    rho=rho0\n",
    "    v=numpy.zeros(nx)\n",
    "    T=int(t/60/dt)\n",
    "    print(T, rhomax, vmax,L , nx, dx, dt)\n",
    "    for n in range(1,T): \n",
    "        rhon = rho.copy()\n",
    "        #for i in range(1,nx): \n",
    "        #rho[j] = rn[j] - dt/dx*((vmax*rn[j]*(1-(rn[j]/rhomax))) - (vmax*rn[j-1]*(1-(rn[j-1]/rhomax))))\n",
    "        rho[1:] = rhon[1:] - dt/dx*((vmax*rhon[1:]*(1-(rhon[1:]/rhomax)))-(vmax*rhon[0:-1]*(1-(rhon[0:-1]/rhomax))))\n",
    "        rho[0]=10\n",
    "    v=vmax*rho*(1-rho/rhomax)/rho\n",
    "    return rho,v\n",
    "\n",
    "for j in [0,3,6]:\n",
    "    rho0 = numpy.ones(nx)*10\n",
    "    rho0[10:20] = 50\n",
    "    rho0[0]=10\n",
    "    rho,v=traffic(j)\n",
    "    pyplot.plot(x, v/3.6);\n",
    "    #pyplot.plot(x,rho);\n",
    "    print(\"Minimum velocity at t=%d: %.2f\" % (j,min(v)/3.6))\n",
    "    print(\"Average velocity at t=%d: %.2f\" % (j,sum(v)/nx/3.6))"
   ]
  },
  {
   "cell_type": "code",
   "execution_count": 97,
   "metadata": {
    "collapsed": false
   },
   "outputs": [
    {
     "name": "stdout",
     "output_type": "stream",
     "text": [
      "0 250 136 11 51 0.22 0.001\n",
      "Minimum velocity at t=0: 30.22\n",
      "Average velocity at t=0: 33.87\n",
      "50 250 136 11 51 0.22 0.001\n",
      "Minimum velocity at t=3: 30.95\n",
      "Average velocity at t=3: 33.87\n",
      "100 250 136 11 51 0.22 0.001\n",
      "Minimum velocity at t=6: 34.41\n",
      "Average velocity at t=6: 34.74\n"
     ]
    },
    {
     "data": {
      "image/png": "[encoded data removed]",
      "text/plain": [
       "<matplotlib.figure.Figure at 0x7fbcf099f9b0>"
      ]
     },
     "metadata": {},
     "output_type": "display_data"
    }
   ],
   "source": [
    "from IPython import get_ipython\n",
    "get_ipython().magic('reset -sf')\n",
    "\n",
    "import numpy\n",
    "import sympy\n",
    "from matplotlib import pyplot\n",
    "%matplotlib inline\n",
    "from matplotlib import rcParams\n",
    "rcParams['font.family'] = 'serif'\n",
    "rcParams['font.size'] = 16\n",
    "\n",
    "from sympy import init_printing\n",
    "init_printing()\n",
    "\n",
    "from sympy.utilities.lambdify import lambdify\n",
    "\n",
    "\n",
    "nx = 51\n",
    "L=11   \n",
    "dt = 0.001  \n",
    "rhomax = 250\n",
    "vmax = 136\n",
    "\n",
    "x = numpy.linspace(0,L,nx)\n",
    "dx=x[1]-x[0]\n",
    "rho0 = numpy.ones(nx)*20\n",
    "rho0[10:20] = 50\n",
    "rho0[0]=20\n",
    "\n",
    "\n",
    "\n",
    "def traffic(t):\n",
    "    rho=rho0\n",
    "    v=numpy.zeros(nx)\n",
    "    T=int(t/60/dt)\n",
    "    print(T, rhomax, vmax,L , nx, dx, dt)\n",
    "    for n in range(1,T): \n",
    "        rhon = rho.copy()\n",
    "        #for i in range(1,nx): \n",
    "        #rho[j] = rn[j] - dt/dx*((vmax*rn[j]*(1-(rn[j]/rhomax))) - (vmax*rn[j-1]*(1-(rn[j-1]/rhomax))))\n",
    "        rho[1:] = rhon[1:] - dt/dx*((vmax*rhon[1:]*(1-(rhon[1:]/rhomax)))-(vmax*rhon[0:-1]*(1-(rhon[0:-1]/rhomax))))\n",
    "        rho[0]=20\n",
    "    v=vmax*rho*(1-rho/rhomax)/rho\n",
    "    return rho,v\n",
    "\n",
    "for j in [0,3,6]:\n",
    "    rho0 = numpy.ones(nx)*20\n",
    "    rho0[10:20] = 50\n",
    "    rho0[0]=20\n",
    "    rho,v=traffic(j)\n",
    "    pyplot.plot(x, v/3.6);\n",
    "    #pyplot.plot(x,rho);\n",
    "    print(\"Minimum velocity at t=%d: %.2f\" % (j,min(v)/3.6))\n",
    "    print(\"Average velocity at t=%d: %.2f\" % (j,sum(v)/nx/3.6))"
   ]
  },
  {
   "cell_type": "code",
   "execution_count": null,
   "metadata": {
    "collapsed": true
   },
   "outputs": [],
   "source": []
  }
 ],
 "metadata": {
  "kernelspec": {
   "display_name": "Python 3",
   "language": "python",
   "name": "python3"
  },
  "language_info": {
   "codemirror_mode": {
    "name": "ipython",
    "version": 3
   },
   "file_extension": ".py",
   "mimetype": "text/x-python",
   "name": "python",
   "nbconvert_exporter": "python",
   "pygments_lexer": "ipython3",
   "version": "3.5.1"
  }
 },
 "nbformat": 4,
 "nbformat_minor": 0
}
