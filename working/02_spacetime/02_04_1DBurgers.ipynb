{
 "cells": [
  {
   "cell_type": "markdown",
   "metadata": {},
   "source": [
    "###### Content under Creative Commons Attribution license CC-BY 4.0, code under MIT license (c)2014 L.A. Barba, G.F. Forsyth, C. Cooper. Based on [CFDPython](https://github.com/barbagroup/CFDPython), (c)2013 L.A. Barba, also under CC-BY license."
   ]
  },
  {
   "cell_type": "markdown",
   "metadata": {},
   "source": [
    "# Space & Time"
   ]
  },
  {
   "cell_type": "markdown",
   "metadata": {},
   "source": [
    "## Burgers' Equation"
   ]
  },
  {
   "cell_type": "markdown",
   "metadata": {},
   "source": [
    "Hi there! We have reached the final lesson of the series *Space and Time — Introduction to Finite-difference solutions of PDEs*, the second module of [\"Practical Numerical Methods with Python\"](http://openedx.seas.gwu.edu/courses/GW/MAE6286/2014_fall/about).\n",
    "\n",
    "We have learned about the finite-difference solution for the linear and non-linear convection equations and the diffusion equation. It's time to combine all these into one: *Burgers' equation*. The wonders of *code reuse*!\n",
    "\n",
    "Before you continue, make sure you have completed the previous lessons of this series, it will make your life easier. You should have written your own versions of the codes in separate, clean IPython Notebooks or Python scripts."
   ]
  },
  {
   "cell_type": "markdown",
   "metadata": {},
   "source": [
    "You can read about Burgers' Equation on its [wikipedia page](http://en.wikipedia.org/wiki/Burgers'_equation).\n",
    "Burgers' equation in one spatial dimension looks like this:\n",
    "\n",
    "\\begin{equation}\\frac{\\partial u}{\\partial t} + u \\frac{\\partial u}{\\partial x} = \\nu \\frac{\\partial ^2u}{\\partial x^2}\\end{equation}\n",
    "\n",
    "As you can see, it is a combination of non-linear convection and diffusion. It is surprising how much you learn from this neat little equation! \n",
    "\n",
    "We can discretize it using the methods we've already detailed in the previous notebooks of this module.  Using forward difference for time, backward difference for space and our 2nd-order method for the second derivatives yields:\n",
    "\n",
    "\\begin{equation}\\frac{u_i^{n+1}-u_i^n}{\\Delta t} + u_i^n \\frac{u_i^n - u_{i-1}^n}{\\Delta x} = \\nu \\frac{u_{i+1}^n - 2u_i^n + u_{i-1}^n}{\\Delta x^2}\\end{equation}\n",
    "\n",
    "As before, once we have an initial condition, the only unknown is $u_i^{n+1}$. We will step in time as follows:\n",
    "\n",
    "\\begin{equation}u_i^{n+1} = u_i^n - u_i^n \\frac{\\Delta t}{\\Delta x} (u_i^n - u_{i-1}^n) + \\nu \\frac{\\Delta t}{\\Delta x^2}(u_{i+1}^n - 2u_i^n + u_{i-1}^n)\\end{equation}"
   ]
  },
  {
   "cell_type": "markdown",
   "metadata": {},
   "source": [
    "### Initial and Boundary Conditions\n",
    "\n",
    "To examine some interesting properties of Burgers' equation, it is helpful to use different initial and boundary conditions than we've been using for previous steps.  \n",
    "\n",
    "The initial condition for this problem is going to be:\n",
    "\n",
    "\\begin{eqnarray}\n",
    "u &=& -\\frac{2 \\nu}{\\phi} \\frac{\\partial \\phi}{\\partial x} + 4 \\\\\\\n",
    "\\phi(t=0) = \\phi_0 &=& \\exp \\bigg(\\frac{-x^2}{4 \\nu} \\bigg) + \\exp \\bigg(\\frac{-(x-2 \\pi)^2}{4 \\nu} \\bigg)\n",
    "\\end{eqnarray}\n",
    "\n",
    "This has an analytical solution, given by:\n",
    "\n",
    "\\begin{eqnarray}\n",
    "u &=& -\\frac{2 \\nu}{\\phi} \\frac{\\partial \\phi}{\\partial x} + 4 \\\\\\\n",
    "\\phi &=& \\exp \\bigg(\\frac{-(x-4t)^2}{4 \\nu (t+1)} \\bigg) + \\exp \\bigg(\\frac{-(x-4t -2 \\pi)^2}{4 \\nu(t+1)} \\bigg)\n",
    "\\end{eqnarray}\n",
    "\n",
    "The boundary condition will be:\n",
    "\n",
    "\\begin{equation}u(0) = u(2\\pi)\\end{equation}\n",
    "\n",
    "This is called a *periodic* boundary condition. Pay attention! This will cause you a bit of headache if you don't tread carefully."
   ]
  },
  {
   "cell_type": "markdown",
   "metadata": {},
   "source": [
    "### Saving Time with SymPy\n",
    "\n",
    "\n",
    "The initial condition we're using for Burgers' Equation can be a bit of a pain to evaluate by hand.  The derivative $\\frac{\\partial \\phi}{\\partial x}$ isn't too terribly difficult, but it would be easy to drop a sign or forget a factor of $x$ somewhere, so we're going to use SymPy to help us out.  \n",
    "\n",
    "[SymPy](http://sympy.org/en/) is the symbolic math library for Python.  It has a lot of the same symbolic math functionality as Mathematica with the added benefit that we can easily translate its results back into our Python calculations (it is also free and open source). \n",
    "\n",
    "Start by loading the SymPy library, together with our favorite library, NumPy."
   ]
  },
  {
   "cell_type": "code",
   "execution_count": 9,
   "metadata": {
    "collapsed": false
   },
   "outputs": [],
   "source": [
    "import numpy\n",
    "import sympy\n",
    "from matplotlib import pyplot\n",
    "%matplotlib inline\n",
    "from matplotlib import rcParams\n",
    "rcParams['font.family'] = 'serif'\n",
    "rcParams['font.size'] = 16"
   ]
  },
  {
   "cell_type": "markdown",
   "metadata": {},
   "source": [
    "We're also going to tell SymPy that we want all of its output to be rendered using $\\LaTeX$. This will make our Notebook beautiful!"
   ]
  },
  {
   "cell_type": "code",
   "execution_count": 10,
   "metadata": {
    "collapsed": false
   },
   "outputs": [],
   "source": [
    "from sympy import init_printing\n",
    "init_printing()"
   ]
  },
  {
   "cell_type": "markdown",
   "metadata": {},
   "source": [
    "Start by setting up symbolic variables for the three variables in our initial condition.  It's important to recognize that once we've defined these symbolic variables, they function differently than \"regular\" Python variables.  \n",
    "\n",
    "If we type `x` into a code block, we'll get an error:"
   ]
  },
  {
   "cell_type": "code",
   "execution_count": 11,
   "metadata": {
    "collapsed": false
   },
   "outputs": [
    {
     "data": {
      "image/png": "[encoded data removed]",
      "text/latex": [
       "$$x$$"
      ],
      "text/plain": [
       "x"
      ]
     },
     "execution_count": 11,
     "metadata": {},
     "output_type": "execute_result"
    }
   ],
   "source": [
    "x"
   ]
  },
  {
   "cell_type": "markdown",
   "metadata": {},
   "source": [
    "`x` is not defined, so this shouldn't be a surprise.  Now, let's set up `x` as a *symbolic* variable:"
   ]
  },
  {
   "cell_type": "code",
   "execution_count": 12,
   "metadata": {
    "collapsed": false
   },
   "outputs": [],
   "source": [
    "x = sympy.symbols('x')"
   ]
  },
  {
   "cell_type": "markdown",
   "metadata": {},
   "source": [
    "Now let's see what happens when we type `x` into a code cell:"
   ]
  },
  {
   "cell_type": "code",
   "execution_count": 13,
   "metadata": {
    "collapsed": false
   },
   "outputs": [
    {
     "data": {
      "image/png": "[encoded data removed]",
      "text/latex": [
       "$$x$$"
      ],
      "text/plain": [
       "x"
      ]
     },
     "execution_count": 13,
     "metadata": {},
     "output_type": "execute_result"
    }
   ],
   "source": [
    "x"
   ]
  },
  {
   "cell_type": "markdown",
   "metadata": {},
   "source": [
    "The value of `x` is $x$.  Sympy is also referred to as a computer algebra system -- normally the value of `5*x` will return the product of `5` and whatever value `x` is pointing to.  But, if we define `x` as a symbol, then something else happens:"
   ]
  },
  {
   "cell_type": "code",
   "execution_count": 14,
   "metadata": {
    "collapsed": false
   },
   "outputs": [
    {
     "data": {
      "image/png": "[encoded data removed]",
      "text/latex": [
       "$$5 x$$"
      ],
      "text/plain": [
       "5⋅x"
      ]
     },
     "execution_count": 14,
     "metadata": {},
     "output_type": "execute_result"
    }
   ],
   "source": [
    "5*x"
   ]
  },
  {
   "cell_type": "markdown",
   "metadata": {},
   "source": [
    "This will let us manipulate an equation with unknowns using Python!  Let's start by defining symbols for $x$, $\\nu$ and $t$ and then type out the full equation for $\\phi$.  We should get a nicely rendered version of our $\\phi$ equation."
   ]
  },
  {
   "cell_type": "code",
   "execution_count": 15,
   "metadata": {
    "collapsed": false
   },
   "outputs": [
    {
     "data": {
      "image/png": "[encoded data removed]",
      "text/latex": [
       "$$e^{- \\frac{\\left(- 4 t + x - 6.28318530717959\\right)^{2}}{4 \\nu \\left(t + 1\\right)}} + e^{- \\frac{\\left(- 4 t + x\\right)^{2}}{4 \\nu \\left(t + 1\\right)}}$$"
      ],
      "text/plain": [
       "                               2                2 \n",
       " -(-4⋅t + x - 6.28318530717959)      -(-4⋅t + x)  \n",
       " ────────────────────────────────    ─────────────\n",
       "           4⋅ν⋅(t + 1)                4⋅ν⋅(t + 1) \n",
       "ℯ                                 + ℯ             "
      ]
     },
     "execution_count": 15,
     "metadata": {},
     "output_type": "execute_result"
    }
   ],
   "source": [
    "x, nu, t = sympy.symbols('x nu t')\n",
    "phi = sympy.exp(-(x-4*t)**2/(4*nu*(t+1))) + \\\n",
    "sympy.exp(-(x-4*t-2*numpy.pi)**2/(4*nu*(t+1)))\n",
    "phi"
   ]
  },
  {
   "cell_type": "markdown",
   "metadata": {},
   "source": [
    "It's maybe a little small, but that looks right.  Now to evaluate our partial derivative $\\frac{\\partial \\phi}{\\partial x}$ is a trivial task.  To take a derivative with respect to $x$, we can just use:"
   ]
  },
  {
   "cell_type": "code",
   "execution_count": 16,
   "metadata": {
    "collapsed": false
   },
   "outputs": [
    {
     "data": {
      "image/png": "[encoded data removed]",
      "text/latex": [
       "$$- \\frac{e^{- \\frac{\\left(- 4 t + x\\right)^{2}}{4 \\nu \\left(t + 1\\right)}}}{4 \\nu \\left(t + 1\\right)} \\left(- 8 t + 2 x\\right) - \\frac{1}{4 \\nu \\left(t + 1\\right)} \\left(- 8 t + 2 x - 12.5663706143592\\right) e^{- \\frac{\\left(- 4 t + x - 6.28318530717959\\right)^{2}}{4 \\nu \\left(t + 1\\right)}}$$"
      ],
      "text/plain": [
       "                           2                                                  \n",
       "                -(-4⋅t + x)                                      -(-4⋅t + x - \n",
       "                ─────────────                                    ─────────────\n",
       "                 4⋅ν⋅(t + 1)                                               4⋅ν\n",
       "  (-8⋅t + 2⋅x)⋅ℯ                (-8⋅t + 2⋅x - 12.5663706143592)⋅ℯ             \n",
       "- ─────────────────────────── - ──────────────────────────────────────────────\n",
       "          4⋅ν⋅(t + 1)                                      4⋅ν⋅(t + 1)        \n",
       "\n",
       "                 2 \n",
       "6.28318530717959)  \n",
       "───────────────────\n",
       "⋅(t + 1)           \n",
       "                   \n",
       "───────────────────\n",
       "                   "
      ]
     },
     "execution_count": 16,
     "metadata": {},
     "output_type": "execute_result"
    }
   ],
   "source": [
    "phiprime = phi.diff(x)\n",
    "phiprime"
   ]
  },
  {
   "cell_type": "markdown",
   "metadata": {},
   "source": [
    "If you want to see the unrendered version, just use the Python print command."
   ]
  },
  {
   "cell_type": "code",
   "execution_count": 17,
   "metadata": {
    "collapsed": false
   },
   "outputs": [
    {
     "name": "stdout",
     "output_type": "stream",
     "text": [
      "-(-8*t + 2*x)*exp(-(-4*t + x)**2/(4*nu*(t + 1)))/(4*nu*(t + 1)) - (-8*t + 2*x - 12.5663706143592)*exp(-(-4*t + x - 6.28318530717959)**2/(4*nu*(t + 1)))/(4*nu*(t + 1))\n"
     ]
    }
   ],
   "source": [
    "print(phiprime)"
   ]
  },
  {
   "cell_type": "markdown",
   "metadata": {},
   "source": [
    "### Now what?\n",
    "\n",
    "\n",
    "Now that we have the Pythonic version of our derivative, we can finish writing out the full initial condition equation and then translate it into a usable Python expression.  For this, we'll use the *lambdify* function, which takes a SymPy symbolic equation and turns it into a callable function.  "
   ]
  },
  {
   "cell_type": "code",
   "execution_count": 18,
   "metadata": {
    "collapsed": false
   },
   "outputs": [
    {
     "name": "stdout",
     "output_type": "stream",
     "text": [
      "-2*nu*(-(-8*t + 2*x)*exp(-(-4*t + x)**2/(4*nu*(t + 1)))/(4*nu*(t + 1)) - (-8*t + 2*x - 12.5663706143592)*exp(-(-4*t + x - 6.28318530717959)**2/(4*nu*(t + 1)))/(4*nu*(t + 1)))/(exp(-(-4*t + x - 6.28318530717959)**2/(4*nu*(t + 1))) + exp(-(-4*t + x)**2/(4*nu*(t + 1)))) + 4\n"
     ]
    }
   ],
   "source": [
    "from sympy.utilities.lambdify import lambdify\n",
    "\n",
    "u = -2*nu*(phiprime/phi)+4\n",
    "print(u)"
   ]
  },
  {
   "cell_type": "markdown",
   "metadata": {},
   "source": [
    "### Lambdify\n",
    "\n",
    "To lambdify this expression into a useable function, we tell lambdify which variables to request and the function we want to plug them in to."
   ]
  },
  {
   "cell_type": "code",
   "execution_count": 19,
   "metadata": {
    "collapsed": false
   },
   "outputs": [
    {
     "name": "stdout",
     "output_type": "stream",
     "text": [
      "The value of u at t=1, x=4, nu=3 is 3.4917066420644494.\n"
     ]
    }
   ],
   "source": [
    "u_lamb = lambdify((t, x, nu), u)\n",
    "print(\"The value of u at t=1, x=4, nu=3 is {}.\".format(u_lamb(1,4,3)))"
   ]
  },
  {
   "cell_type": "markdown",
   "metadata": {},
   "source": [
    "### Back to Burgers' Equation\n",
    "\n",
    "Now that we have the initial conditions set up, we can proceed and finish setting up the problem.  We can generate the plot of the initial condition using our lambdify-ed function."
   ]
  },
  {
   "cell_type": "code",
   "execution_count": 20,
   "metadata": {
    "collapsed": false
   },
   "outputs": [],
   "source": [
    "###variable declarations\n",
    "nx = 101\n",
    "nt = 100\n",
    "dx = 2*numpy.pi/(nx-1)\n",
    "nu = .07\n",
    "sigma = .1\n",
    "dt = sigma*dx**2/nu \n",
    "\n",
    "x = numpy.linspace(0, 2*numpy.pi, nx)\n",
    "un = numpy.empty(nx)\n",
    "t = 0"
   ]
  },
  {
   "cell_type": "markdown",
   "metadata": {},
   "source": [
    "We have a function `u_lamb` but we need to create an array `u` with our initial conditions.  `u_lamb` will return the value for any given time $t$, position $x$ and $nu$.  We can use a `for`-loop to cycle through values of `x` to generate the `u` array.  That code would look something like this:\n",
    "\n",
    "```Python\n",
    "u = numpy.empty(nx)\n",
    "\n",
    "for i, x0 in enumerate(x):\n",
    "    u[i] = u_lamb(t, x0, nu)\n",
    "```\n",
    "\n",
    "But there's a cleaner, more beautiful way to do this -- *list comprehension*.  \n",
    "\n",
    "We can create a list of all of the appropriate `u` values by typing\n",
    "\n",
    "```Python\n",
    "[u_lamb(t, x0, nu) for x0 in x]\n",
    "```\n",
    "\n",
    "You can see that the syntax is similar to the `for`-loop, but it only takes one line.  Using a list comprehension will create... a list.  This is different from an *array*, but converting a list to an array is trivial using `numpy.asarray()`.  \n",
    "\n",
    "With the list comprehension in place, the three lines of code above become one:\n",
    "\n",
    "```Python\n",
    "u = numpy.asarray([u_lamb(t, x0, nu) for x0 in x])\n",
    "```"
   ]
  },
  {
   "cell_type": "code",
   "execution_count": 21,
   "metadata": {
    "collapsed": false
   },
   "outputs": [
    {
     "data": {
      "text/plain": [
       "array([ 4.        ,  4.06283185,  4.12566371,  4.18849556,  4.25132741,\n",
       "        4.31415927,  4.37699112,  4.43982297,  4.50265482,  4.56548668,\n",
       "        4.62831853,  4.69115038,  4.75398224,  4.81681409,  4.87964594,\n",
       "        4.9424778 ,  5.00530965,  5.0681415 ,  5.13097336,  5.19380521,\n",
       "        5.25663706,  5.31946891,  5.38230077,  5.44513262,  5.50796447,\n",
       "        5.57079633,  5.63362818,  5.69646003,  5.75929189,  5.82212374,\n",
       "        5.88495559,  5.94778745,  6.0106193 ,  6.07345115,  6.136283  ,\n",
       "        6.19911486,  6.26194671,  6.32477856,  6.38761042,  6.45044227,\n",
       "        6.51327412,  6.57610598,  6.63893783,  6.70176967,  6.76460125,\n",
       "        6.82742866,  6.89018589,  6.95176632,  6.99367964,  6.72527549,\n",
       "        4.        ,  1.27472451,  1.00632036,  1.04823368,  1.10981411,\n",
       "        1.17257134,  1.23539875,  1.29823033,  1.36106217,  1.42389402,\n",
       "        1.48672588,  1.54955773,  1.61238958,  1.67522144,  1.73805329,\n",
       "        1.80088514,  1.863717  ,  1.92654885,  1.9893807 ,  2.05221255,\n",
       "        2.11504441,  2.17787626,  2.24070811,  2.30353997,  2.36637182,\n",
       "        2.42920367,  2.49203553,  2.55486738,  2.61769923,  2.68053109,\n",
       "        2.74336294,  2.80619479,  2.86902664,  2.9318585 ,  2.99469035,\n",
       "        3.0575222 ,  3.12035406,  3.18318591,  3.24601776,  3.30884962,\n",
       "        3.37168147,  3.43451332,  3.49734518,  3.56017703,  3.62300888,\n",
       "        3.68584073,  3.74867259,  3.81150444,  3.87433629,  3.93716815,  4.        ])"
      ]
     },
     "execution_count": 21,
     "metadata": {},
     "output_type": "execute_result"
    }
   ],
   "source": [
    "u = numpy.asarray([u_lamb(t, x0, nu) for x0 in x])\n",
    "u"
   ]
  },
  {
   "cell_type": "markdown",
   "metadata": {},
   "source": [
    "Now that we have the initial conditions set up, we can plot it to see what $\\phi(x,0)$ looks like:"
   ]
  },
  {
   "cell_type": "code",
   "execution_count": 25,
   "metadata": {
    "collapsed": false
   },
   "outputs": [
    {
     "data": {
      "image/png": "[encoded data removed]",
      "text/plain": [
       "<matplotlib.figure.Figure at 0x7f7ea87414e0>"
      ]
     },
     "metadata": {},
     "output_type": "display_data"
    }
   ],
   "source": [
    "pyplot.figure(figsize=(8,5), dpi=100)\n",
    "pyplot.plot(x,u, color='#003366', ls='--', lw=3)\n",
    "pyplot.xlim([0,2*numpy.pi])\n",
    "pyplot.ylim([0,10]);"
   ]
  },
  {
   "cell_type": "markdown",
   "metadata": {},
   "source": [
    "This is definitely not the hat function we've been dealing with until now. We call it a \"saw-tooth function\".  Let's proceed forward and see what happens.  "
   ]
  },
  {
   "cell_type": "markdown",
   "metadata": {},
   "source": [
    "### Periodic Boundary Conditions\n",
    "\n",
    "We will implement Burgers' equation with *periodic* boundary conditions.  If you experiment with the linear and non-linear convection notebooks and make the simulation run longer (by increasing `nt`) you will notice that the wave will keep moving to the right until it no longer even shows up in the plot.  \n",
    "\n",
    "With periodic boundary conditions, when a point gets to the right-hand side of the frame, it *wraps around* back to the front of the frame.  \n",
    "\n",
    "Recall the discretization that we worked out at the beginning of this notebook:\n",
    "\n",
    "\\begin{equation}u_i^{n+1} = u_i^n - u_i^n \\frac{\\Delta t}{\\Delta x} (u_i^n - u_{i-1}^n) + \\nu \\frac{\\Delta t}{\\Delta x^2}(u_{i+1}^n - 2u_i^n + u_{i-1}^n)\\end{equation}\n",
    "\n",
    "What does $u_{i+1}^n$ *mean* when $i$ is already at the end of the frame?\n",
    "\n",
    "Think about this for a minute before proceeding.  \n",
    "\n"
   ]
  },
  {
   "cell_type": "code",
   "execution_count": 26,
   "metadata": {
    "collapsed": false
   },
   "outputs": [],
   "source": [
    "for n in range(nt):\n",
    "    un = u.copy()\n",
    "    \n",
    "    u[1:-1] = un[1:-1] - un[1:-1] * dt/dx * (un[1:-1] - un[:-2]) + nu*dt/dx**2*\\\n",
    "                    (un[2:] - 2*un[1:-1] + un[:-2])\n",
    "\n",
    "    u[0] = un[0] - un[0] * dt/dx * (un[0] - un[-1]) + nu*dt/dx**2*\\\n",
    "                (un[1] - 2*un[0] + un[-1])\n",
    "    u[-1] = un[-1] - un[-1] * dt/dx * (un[-1] - un[-2]) + nu*dt/dx**2*\\\n",
    "                (un[0]- 2*un[-1] + un[-2])\n",
    "        \n",
    "u_analytical = numpy.asarray([u_lamb(nt*dt, xi, nu) for xi in x])"
   ]
  },
  {
   "cell_type": "code",
   "execution_count": 27,
   "metadata": {
    "collapsed": false
   },
   "outputs": [
    {
     "data": {
      "image/png": "[encoded data removed]",
      "text/plain": [
       "<matplotlib.figure.Figure at 0x7f7ea817f358>"
      ]
     },
     "metadata": {},
     "output_type": "display_data"
    }
   ],
   "source": [
    "pyplot.figure(figsize=(8,5), dpi=100)\n",
    "pyplot.plot(x,u, color='#003366', ls='--', lw=3, label='Computational')\n",
    "pyplot.plot(x, u_analytical, label='Analytical')\n",
    "pyplot.xlim([0,2*numpy.pi])\n",
    "pyplot.ylim([0,10])\n",
    "pyplot.legend();"
   ]
  },
  {
   "cell_type": "code",
   "execution_count": 28,
   "metadata": {
    "collapsed": false
   },
   "outputs": [],
   "source": [
    "from JSAnimation.IPython_display import display_animation\n",
    "from matplotlib import animation"
   ]
  },
  {
   "cell_type": "code",
   "execution_count": 29,
   "metadata": {
    "collapsed": false
   },
   "outputs": [],
   "source": [
    "u = numpy.asarray([u_lamb(t, x0, nu) for x0 in x])"
   ]
  },
  {
   "cell_type": "code",
   "execution_count": 30,
   "metadata": {
    "collapsed": false
   },
   "outputs": [
    {
     "data": {
      "text/html": [
       "\n",
       "<script language=\"javascript\">\n",
       "  /* Define the Animation class */\n",
       "  function Animation(frames, img_id, slider_id, interval, loop_select_id){\n",
       "    this.img_id = img_id;\n",
       "    this.slider_id = slider_id;\n",
       "    this.loop_select_id = loop_select_id;\n",
       "    this.interval = interval;\n",
       "    this.current_frame = 0;\n",
       "    this.direction = 0;\n",
       "    this.timer = null;\n",
       "    this.frames = new Array(frames.length);\n",
       "\n",
       "    for (var i=0; i<frames.length; i++)\n",
       "    {\n",
       "     this.frames[i] = new Image();\n",
       "     this.frames[i].src = frames[i];\n",
       "    }\n",
       "    document.getElementById(this.slider_id).max = this.frames.length - 1;\n",
       "    this.set_frame(this.current_frame);\n",
       "  }\n",
       "\n",
       "  Animation.prototype.get_loop_state = function(){\n",
       "    var button_group = document[this.loop_select_id].state;\n",
       "    for (var i = 0; i < button_group.length; i++) {\n",
       "        var button = button_group[i];\n",
       "        if (button.checked) {\n",
       "            return button.value;\n",
       "        }\n",
       "    }\n",
       "    return undefined;\n",
       "  }\n",
       "\n",
       "  Animation.prototype.set_frame = function(frame){\n",
       "    this.current_frame = frame;\n",
       "    document.getElementById(this.img_id).src = this.frames[this.current_frame].src;\n",
       "    document.getElementById(this.slider_id).value = this.current_frame;\n",
       "  }\n",
       "\n",
       "  Animation.prototype.next_frame = function()\n",
       "  {\n",
       "    this.set_frame(Math.min(this.frames.length - 1, this.current_frame + 1));\n",
       "  }\n",
       "\n",
       "  Animation.prototype.previous_frame = function()\n",
       "  {\n",
       "    this.set_frame(Math.max(0, this.current_frame - 1));\n",
       "  }\n",
       "\n",
       "  Animation.prototype.first_frame = function()\n",
       "  {\n",
       "    this.set_frame(0);\n",
       "  }\n",
       "\n",
       "  Animation.prototype.last_frame = function()\n",
       "  {\n",
       "    this.set_frame(this.frames.length - 1);\n",
       "  }\n",
       "\n",
       "  Animation.prototype.slower = function()\n",
       "  {\n",
       "    this.interval /= 0.7;\n",
       "    if(this.direction > 0){this.play_animation();}\n",
       "    else if(this.direction < 0){this.reverse_animation();}\n",
       "  }\n",
       "\n",
       "  Animation.prototype.faster = function()\n",
       "  {\n",
       "    this.interval *= 0.7;\n",
       "    if(this.direction > 0){this.play_animation();}\n",
       "    else if(this.direction < 0){this.reverse_animation();}\n",
       "  }\n",
       "\n",
       "  Animation.prototype.anim_step_forward = function()\n",
       "  {\n",
       "    this.current_frame += 1;\n",
       "    if(this.current_frame < this.frames.length){\n",
       "      this.set_frame(this.current_frame);\n",
       "    }else{\n",
       "      var loop_state = this.get_loop_state();\n",
       "      if(loop_state == \"loop\"){\n",
       "        this.first_frame();\n",
       "      }else if(loop_state == \"reflect\"){\n",
       "        this.last_frame();\n",
       "        this.reverse_animation();\n",
       "      }else{\n",
       "        this.pause_animation();\n",
       "        this.last_frame();\n",
       "      }\n",
       "    }\n",
       "  }\n",
       "\n",
       "  Animation.prototype.anim_step_reverse = function()\n",
       "  {\n",
       "    this.current_frame -= 1;\n",
       "    if(this.current_frame >= 0){\n",
       "      this.set_frame(this.current_frame);\n",
       "    }else{\n",
       "      var loop_state = this.get_loop_state();\n",
       "      if(loop_state == \"loop\"){\n",
       "        this.last_frame();\n",
       "      }else if(loop_state == \"reflect\"){\n",
       "        this.first_frame();\n",
       "        this.play_animation();\n",
       "      }else{\n",
       "        this.pause_animation();\n",
       "        this.first_frame();\n",
       "      }\n",
       "    }\n",
       "  }\n",
       "\n",
       "  Animation.prototype.pause_animation = function()\n",
       "  {\n",
       "    this.direction = 0;\n",
       "    if (this.timer){\n",
       "      clearInterval(this.timer);\n",
       "      this.timer = null;\n",
       "    }\n",
       "  }\n",
       "\n",
       "  Animation.prototype.play_animation = function()\n",
       "  {\n",
       "    this.pause_animation();\n",
       "    this.direction = 1;\n",
       "    var t = this;\n",
       "    if (!this.timer) this.timer = setInterval(function(){t.anim_step_forward();}, this.interval);\n",
       "  }\n",
       "\n",
       "  Animation.prototype.reverse_animation = function()\n",
       "  {\n",
       "    this.pause_animation();\n",
       "    this.direction = -1;\n",
       "    var t = this;\n",
       "    if (!this.timer) this.timer = setInterval(function(){t.anim_step_reverse();}, this.interval);\n",
       "  }\n",
       "</script>\n",
       "\n",
       "<div class=\"animation\" align=\"center\">\n",
       "    <img id=\"_anim_imgHYAYBIITNVRIEYFW\">\n",
       "    <br>\n",
       "    <input id=\"_anim_sliderHYAYBIITNVRIEYFW\" type=\"range\" style=\"width:350px\" name=\"points\" min=\"0\" max=\"1\" step=\"1\" value=\"0\" onchange=\"animHYAYBIITNVRIEYFW.set_frame(parseInt(this.value));\"></input>\n",
       "    <br>\n",
       "    <button onclick=\"animHYAYBIITNVRIEYFW.slower()\">&#8211;</button>\n",
       "    <button onclick=\"animHYAYBIITNVRIEYFW.first_frame()\"><img class=\"anim_icon\" src=\"data:image/png;base64,iVBORw0KGgoAAAANSUhEUgAAABQAAAAUCAQAAAAngNWGAAAAAXNSR0IArs4c6QAAAAJiS0dEAP+Hj8y/AAAACXBIWXMAAAsTAAALEwEAmpwYAAAAB3RJTUUH3QURCAgaeZk4EQAAASlJREFUKM/dkj9LQnEUhp9zr3bpj1uBcKGiJWxzLWivKAIRjIhcCqcgqJbKRagPICiVSVEuNTu0tLYGUg4tkRGUdxLJ0u79Ndxr5FfwTO/L+xzO4XCgO+v2T70AFU+/A/Dhmlzg6Pr0DKAMwOH4zQxAAbAkv2xNeF2RoQUVc1ytgttXUbWVdN1dOPE8pz4j4APQsdFtKA0WY6vpKjqvVciHnvZTS6Ja4HgggJLs7MHxl9nCh8NYcO+iGG0agiaC4h9oa6Vsw2yiK+QHSZT934YoEQABNBcTNDszsrhm1m1B+bFS86PT6QFppx6oeSaeOwlMXRp1h4aK13Y2kuHhUo9ykPboPvFjeEvsrhTMt3ylHyB0r8KZyYdCrbfj4OveoHMANjuyx+76rV+/blxKMZUnLgAAAABJRU5ErkJggg==\"></button>\n",
       "    <button onclick=\"animHYAYBIITNVRIEYFW.previous_frame()\"><img class=\"anim_icon\" src=\"data:image/png;base64,iVBORw0KGgoAAAANSUhEUgAAABQAAAAUCAQAAAAngNWGAAAAAXNSR0IArs4c6QAAAAJiS0dEAP+Hj8y/AAAACXBIWXMAAAsTAAALEwEAmpwYAAAAB3RJTUUH3QURCAgyTCyQ6wAAANRJREFUKM9jYBjO4AiUfgzFGGAp4+yayUvX6jMwMDCsYmBgOCS4OAOrSYmMgcc8/pd5Q3irC+Neh/1AlmeBMVgZmP8yMLD8/c/cqv9r90whzv/MX7Eq/MfAwMDIwCuZdfSV8U8WDgZGRmYGrAoZGRgY/jO8b3sj/J2F6T8j4z80pzEhmIwMjAxsSbqqlkeZGP//Z8SlkJnhPwMjwx/Guoe1NhmRwk+YGH5jV8jOwMPHzcDBysAwh8FrxQwtPU99HrwBXsnAwMDAsJiBgYGBoZ1xmKYqALHhMpn1o7igAAAAAElFTkSuQmCC\"></button>\n",
       "    <button onclick=\"animHYAYBIITNVRIEYFW.reverse_animation()\"><img class=\"anim_icon\" src=\"data:image/png;base64,iVBORw0KGgoAAAANSUhEUgAAABQAAAAUCAQAAAAngNWGAAAAAXNSR0IArs4c6QAAAAJiS0dEAP+Hj8y/AAAACXBIWXMAAAsTAAALEwEAmpwYAAAAB3RJTUUH3QURCAgmVvZElgAAAVFJREFUKM+t0k8ow3EYx/H3s/2aLDUSZctFkgsHEi1XLi5ukpPSWsuJklwclsPSsDKFi7MSJ0I5qF2GHO2m0FY7+BdNv7Y9DpuxDSt5vsfvq+fT9/k+8D8VBxIAWH6H0ead4Qb5BRwCENoceZi5Stl/6BgCBmtWhjzxg4mUQ02rAhil7JgB9tze7aTLxFAKsUUd14B9ZzCyFUk401gQyQJaDNcBHwv7t7ETd0ZVQFEEzcNCdE/1wtj15imGWlEB8qkf2QaAWjbG/bPSamIDyX65/iwDIFx7tWjUvWCoSo5oGbYATN7PORt7W9IZEQXJH8ohuN7C0VVX91KNqYhq4a1lEGJI0j892tazXCWQRUpwAbYDcHczPxXuajq3mbnhfANz5eOJxsuNvs7+jud0UcuyL3QAkuEMx4rnIvBYq1JhEwPAUb3fG7x8tVdc292/7Po7f2VqA+Yz7ZwAAAAASUVORK5CYII=\"></button>\n",
       "    <button onclick=\"animHYAYBIITNVRIEYFW.pause_animation()\"><img class=\"anim_icon\" src=\"data:image/png;base64,iVBORw0KGgoAAAANSUhEUgAAABQAAAAUCAQAAAAngNWGAAAAAXNSR0IArs4c6QAAAAJiS0dEAP+Hj8y/AAAACXBIWXMAAAsTAAALEwEAmpwYAAAAB3RJTUUH3QURCAkR91DQ2AAAAKtJREFUKM9jYCANTEVib2K4jcRbzQihGWEC00JuNjN8Z2Q0Zo3VYWA4lL005venH9+c3ZK5IfIsMIXMBtc12Bj+MMgxMDAwMPzWe2TBzPCf4SLcZCYY4/9/RgZGBiaYFf8gljFhKiQERhUOeoX/Gf8y/GX4y/APmlj+Mfxj+MfwH64Qnnq0zr9fyfLrPzP3eQYGBobvk5x4GX4xMIij23gdib0cRWYHiVmAAQDK5ircshCbHQAAAABJRU5ErkJggg==\"></button>\n",
       "    <button onclick=\"animHYAYBIITNVRIEYFW.play_animation()\"><img class=\"anim_icon\" src=\"data:image/png;base64,iVBORw0KGgoAAAANSUhEUgAAABQAAAAUCAQAAAAngNWGAAAAAXNSR0IArs4c6QAAAAJiS0dEAP+Hj8y/AAAACXBIWXMAAAsTAAALEwEAmpwYAAAAB3RJTUUH3QURCAkEmo00MwAAAS9JREFUKM+tkj1IQmEUhp9j94LQj0FD4RRBLdLQ3ftb26PRcCiQIIiIDFwKC0OhaAiam5wVDBpqCKohQojMLYzaAiUatOtpuQrKVQl64fu+4Xt4OLwc+Fs+nNM16jsPAWS6gZXggoZfXmfhog3hcZ6aTXF87Sp68OmH4/YggAo8bmfyyeh6Z1AAKPVldyO1+Iz2uILq3AriJSe3l+H7aj+cuRnrTsVDxSxay+VYbMDnCtZxxQOU9G4nlU9E1HQBxRkCQMRGRnIbpxMARkvxCIoAorYMMrq0mJ0qu4COUW3xyVDqJC4P+86P0ewDQbQqgevhlc2C8ETApXAEFLzvwa3EXG9BoIE1GQUbv1h7k4fTXxBu6cKgUbX5M3ZzNC+a7rQ936HV56SlRpcle+Mf8wvgJ16zo/4BtQAAAABJRU5ErkJggg==\"></button>\n",
       "    <button onclick=\"animHYAYBIITNVRIEYFW.next_frame()\"><img class=\"anim_icon\" src=\"data:image/png;base64,iVBORw0KGgoAAAANSUhEUgAAABQAAAAUCAQAAAAngNWGAAAAAXNSR0IArs4c6QAAAAJiS0dEAP+Hj8y/AAAACXBIWXMAAAsTAAALEwEAmpwYAAAAB3RJTUUH3QURCAkd/uac8wAAAMhJREFUKM9jYBie4DEUQ8B+fEq3+3UrMzAwMFxjYGBgYJizYubaOUxYFUaXh/6vWfRfEMIL/+//P5gZJoei4/f/7wxnY1PeNUXdE2RgYGZgYoCrY2BBVsjKwMDAwvCS4f3SG/dXxm5gYESSQ1HIwvCPgZmB8f8Pxv+Kxxb/YfiPJIdi9T8GJgaG/38ZFd4Fx0xUYsZt4h8GBgb2D2bLy7KnMTAwMEIxFoVCXIYr1IoDnkF4XAysqNIwUMDAwMDAsADKS2NkGL4AAIARMlfNIfZMAAAAAElFTkSuQmCC\"></button>\n",
       "    <button onclick=\"animHYAYBIITNVRIEYFW.last_frame()\"><img class=\"anim_icon\" src=\"data:image/png;base64,iVBORw0KGgoAAAANSUhEUgAAABQAAAAUCAQAAAAngNWGAAAAAXNSR0IArs4c6QAAAAJiS0dEAP+Hj8y/AAAACXBIWXMAAAsTAAALEwEAmpwYAAAAB3RJTUUH3QURCAknOOpFQQAAAS9JREFUKM/dkrEvQ3EQxz/33mtoQxiYpANbLU26NAabSCcSUouGBVNDjYQaOiDpIEiKjURIw2Kx04hEYmkHEpGoJpSISaXq9Wd4P03/ht5y98197/u9XA4aK4rAWw3lgWddZ3S+/G9mEovtAB8AHE4pgTQAx8PbJweRmsq6GimmNpxaNYXVzMNNCI6A2figimwCGACK786zuWgh3qcsKf/w0pM4X0m/doNVFVzVGlEQsdRj193VxEWpH0RsdRu+zi3tVMqCAsDShoiYqiSV4OouVDFEqS9Pbiyg7vV62lpQ2BJ4Gg0meg0MbNpkYG/e+540NNFyrE1a8qHk5BaAjfnrzUaHfAWImVrLIXbgnx4/9X06s35cweWsVACa3a24PVp0X+rPv1aHFnSONdiL8Qci0lzwpOM5sQAAAABJRU5ErkJggg==\"></button>\n",
       "    <button onclick=\"animHYAYBIITNVRIEYFW.faster()\">+</button>\n",
       "  <form action=\"#n\" name=\"_anim_loop_selectHYAYBIITNVRIEYFW\" class=\"anim_control\">\n",
       "    <input type=\"radio\" name=\"state\" value=\"once\" > Once </input>\n",
       "    <input type=\"radio\" name=\"state\" value=\"loop\" checked> Loop </input>\n",
       "    <input type=\"radio\" name=\"state\" value=\"reflect\" > Reflect </input>\n",
       "  </form>\n",
       "</div>\n",
       "\n",
       "\n",
       "<script language=\"javascript\">\n",
       "  /* Instantiate the Animation class. */\n",
       "  /* The IDs given should match those used in the template above. */\n",
       "  (function() {\n",
       "    var img_id = \"_anim_imgHYAYBIITNVRIEYFW\";\n",
       "    var slider_id = \"_anim_sliderHYAYBIITNVRIEYFW\";\n",
       "    var loop_select_id = \"_anim_loop_selectHYAYBIITNVRIEYFW\";\n",
       "    var frames = new Array(0);\n",
       "    \n",
       "  frames[0] = \"data:image/png;base64,iVBORw0KGgoAAAANSUhEUgAAAkAAAAGwCAYAAABB4NqyAAAABHNCSVQICAgIfAhkiAAAAAlwSFlzAAALEgAACxIB0t1+/AAAIABJREFUeJzs3Xd0VOX69vHvnjTSgRSSECD00ItUPUhRBBSPUlRUDqCvDRUbSpLzO/aSUEITBUQBwYaC2FGK4kEQBAuKNBUILUDopLfn/SMkmhOQlmSH7OuzVtYizzyz555hmLm4997PtowxBhEREREHcdldgIiIiEh5UwASERERx1EAEhEREcdRABIRERHHUQASERERx1EAEhEREcdRABIRERHHUQASERERx1EAEhEREcdRABIRERHHUQASERERx1EAEhEREcdRABIRERHHUQASERERx1EAEhEREcdRABIRERHHUQASERERx1EAEhEREcdRABIRERHHUQASERERx1EAEhEREcdRABIRERHHUQASERERx1EAEhEREcdRABIRERHHUQASERERx1EAEhEREcdRABIRERHHUQASERERx1EAEhEREcdRABIRERHHUQASERERx1EAEhEREcdRABIRERHHqVQBKDk5md69e+NyVaqnJSIiIqWs0iSF999/n0svvZRt27ZhWdZp56WlpXH//fcTHR1N8+bN6d27Nxs3bizHSkVERMRulSYAjR07lqVLl3LZZZf97byBAwfy888/s379ejZs2ECHDh3o1q0bycnJ5VSpiIiI2K3SBKCVK1dSv379v52zZMkSvvjiC5599lm8vLwAePzxx8nLy+OFF14ojzJFRESkAqg0AehsjvtZsGABnp6exbpEHh4eXHbZZSxYsKAsyxMREZEKpNIEoLPxyy+/EBERgbu7e7HxunXrsn//fg4ePGhTZSIiIlKeHBWADh48iL+/f4nxgIAAAA4dOlTeJYmIiIgNHBWARERERADczzyl8ggODj7l2V7Hjx8HICgoqMRtf3dKvYiISGVkjLG7hDLnqA5Qy5Yt2bt3L7m5ucXGt2/fTo0aNQgODj7l/Ywx+jnFz5NPPml7DRX1R6+NXhu9NnptLtbXxikcFYD69+9PTk4Oq1atKhrLyclh5cqVDBw40MbKREREpDxVugD0d+m1Z8+e9OrVi8cff5yMjAwAnnvuOdzd3YmLiyuvEkVERMRmleYYoFGjRrFkyRJ27doFQNu2bQH47rvvip32Pn/+fGJiYmjdujXu7u5ERkayfPlywsPDban7YtatWze7S6iw9Nqcnl6b09Nrc3p6bU5Pr835sYyTdvidB8uyHLVPVEREnM0p33uVbheYiIiIyJkoAImIiIjjKACJiIiI4ygAiYiIiONUmrPARETsFBUVRVJSkt1liPytOnXqsGPHDrvLqBB0FtgZOOVoeBG5MPqskIvB2bxPnfJe1i4wERERcRwFIBEREXEcBSARERFxHAUgERERcRwFIBEREXEcBSARESkVmzZt4r777qNJkyZERkZStWpV6tWrx3XXXcf48eP5448/7C6xUkhMTCQ8PBx3d3fq1atndzkXLQUgERG5YGPGjKFNmzaEhoby9ddfs3v3bo4ePcoXX3xBaGgojz76KI0aNeLbb7+1u9Qy9/rrr+NyuZgzZ06ZbH/kyJEkJydTq1atMtm+U2ghRBERuSCTJ08mNjaWqVOncvfddxe7rWHDhsyYMQMvLy+mTp1KTk6OTVWWL8uy7C5BzkAdIBEROW/JycnExMTQtGnTEuHnrx5//HHc3NzKsTL7OGERwcpAAUhERM7bq6++SnZ2Ntdff/3fzqtRowarVq2idevWRWP79u3j3nvvJSoqivDwcCIjIxk8eDBbt24tdt9WrVoRFBSEy+Xi6aefZvbs2bRq1Qp/f3/at2/P119/DcDChQtp164dgYGBdOjQgVWrVhXbTt++fQkNDcXlcnHbbbfxxhtv0LZtW8LDwwkODua2227jwIEDxZ7bqY612b17N+Hh4fj4+OByudi5c2fRbZdccgkPPfQQAA8++CARERFERERw7733Fqtl8eLFXHnllQQFBREUFESLFi2Ij48nNze3xGv3/fff07NnTwICAqhTpw7XXnstW7Zs+dvXW86Ckb+ll0hEzoZTPyt69uxpXC6XmTdv3jndLykpyURERJi2bdua7du3G2OMSUlJMX369DEBAQFm7dq1xeYvX77cWJZlWrdubSZOnGjy8vLM0aNHTfv27Y2vr6956623zOTJk01eXp45cuSIueSSS0z16tXNiRMnim1nx44dxrIsExERYfr162cOHz5sjDFm9erVJjg42ERHR5vU1NRi94mKijJ169Yt8RyGDRtmXC6XSUpKKjY+e/Zs43K5zJw5c0753KdNm2ZcLpf597//bTIzM01+fr758MMPjZ+fn+nbt2+xud9//73x9fU1nTt3Nnv27DHGGPPrr7+abt26maCgoFPW9XfO5n3qlPeyM57lBXDKG0FELoxTPyuaNm1qXC6XWbJkyTnd75prrjEul8usWrWq2PiuXbuMu7u7adasWbHxwgDUtm3bYuOvvfaasSzLdOjQodj4q6++alwul3n33XeLjRcGoMDAQHP8+PFit7300kvGsizz+OOPFxs/3wD0+uuvl7jPnj17jJeXl+nYsWOJ22JiYozL5TIffPBB0ViXLl2My+UymzZtKjZ32bJlxrIsBaALoF1gIiI2eWr6x1jt7i7x89T0j0t9/unmXKjzOdj36NGjLFq0iODgYDp37lzstsjISNq1a8emTZv48ccfS9z3f+cXngnVvn37EuPGmGK7p/6qQ4cO+Pv7Fxu7+uqrAViwYMG5PaFz8N5775GdnU2fPn1OWZMxhk8++QSAgwcP8s033xAZGUl0dHSxud27d8fdXecxXQi9eiIict4iIiLYtGkThw8fPuv7/PbbbxhjqFmz5ilvLxzfsmULbdq0KXZbcHBwsd89PT1POe7l5QVAWlraKR8jPDy8xFhkZCRAma5XVHjszsSJE5k+fXqx2/Ly8vDz8+PgwYPF6oiIiCixHcuyCAsLK7M6nUAdIBEROW/du3fHGMPPP/9cLo/ncp36a+t04+ciMzPznObn5+ef82NYloVlWTzzzDPs3bu32M/+/fs5fvw4CxcuLHafrKysc34cOTN1gEREbPLU3dfy1N3XVpj55+P222/n+eefZ+HChTz33HOnnbd69WpGjBjBo48+Sq9evXC5XOzevfuUc/fs2QNQYrdPaUpOTi4xtnfvXgDq169fbNzDw4OMjIwS8/fv33/Oj9u4ceO/3TW3du1aqlatSsOGDYvqKKzrr4wx7N+//7RdNDkzdYBEROS81ahRg/Hjx7N582amTp16yjk5OTnExMSwc+dO+vbtS9WqVbn66qs5dOgQK1asKDZ39+7drFu3jmbNmhU7Zb60fffdd6SmphYbK+y8DBw4sNh4ZGQkBw4cKLaIY0ZGBuvWrTvltn19fTHGFM0/cOAAI0aMID09nRtuuAEvLy/ef//9EusFHThwgMsvv5xNmzYBBbv1unTpQkpKCmvXri02d/ny5Y5ZVLKsKACJiMgFueuuu0hMTGTkyJE89dRTRWvpGGNYt24d11xzDZs2beKLL77A19cXgClTphAREcEDDzxQdKxLSkoKd955J76+vsyePbvYY/xvWDjf8UI1a9bkjjvuKDp2afXq1SQmJhIdHc2oUaOKzR0wYAC5ubmMGTOG/Px80tLSePjhh4uOI/rfx2revDmWZbF+/XoAPvroI9599118fHwIDw9n8uTJJCUlMWLECE6cOAHAtm3bGDhwIFdccQXXXvtn127ixIn4+Pjw4IMPFnXGNm7cSGxsLH5+fn/7HOUMbDn37CKil0hEzoY+K4zZsmWLueeee0zDhg1NRESEiYiIMJdccol5+umnzYEDB0rM37dvn7n33ntNnTp1TFhYmKlZs6a59dZbzdatW4vNu/LKK01QUJBxuVzG39/f1KpVyxhjzI033nhW4+Hh4UXrARWeBn/bbbeZRYsWmY4dO5rw8HATHBxsbrvttlPWmZeXZ1544QXToEEDU716ddOpUyezePHiotPgQ0NDzfXXX1/sPomJiUXPq2XLliWWCVi2bJnp1auXCQ4ONpGRkaZ58+YmPj7eZGRklHj8H374wVx11VUmICDAREZGmiuuuMJ89913pm7dusbd3d2Eh4ebF1544az+js7mfeqU97JljNbs/juWZWlZcxE5I31WXBySkpKoW7cuw4YNY+bMmXaXU+7O5n3qlPeydoGJiIiI4ygAiYiIYzihsyFnRwFIREQcoW/fvnTs2BHLspg3bx4RERGsXLnS7rLEJjoG6Aycsi9URC6MPivkYqBjgP6kDpCIiIg4jgKQiIiIOI4CkIiIiDiOApCIiIg4jgKQiIiIOI4CkIiIiDiOApCIiIg4jgKQiIiIOI4CkIiIiDiOApCIiJSqlJQUPD09iYqKsuXx586dS3h4OF5eXri5uZXZ42RnZ9OsWTN69uxZZo/xV8OHDyc8PByXy0WPHj3K5TErMwUgEREpVXPmzCE3N5ddu3axdOnScn/8f/3rXyQnJ3PppZde8La6deuGy3Xqr8q8vDyOHTvG4cOHL/hxzsbUqVNJTk4ul8dyAgUgEREpVbNnz6ZNmzYYY5g5c6bd5VwQy7KwLOuUt3l7e5OUlMS6devKuSopDQpAIiJSatasWcOePXt45513cLlcfPDBBxw7dszussqMm5vbaQOSVGwKQCIiUmpmz57NzTffTMOGDbniiivIysrirbfeKjbnf4/ROXDgALfeeiu1atUiJCSEAQMGsHfv3hLbfu+99xgwYAD16tUjLCyMGjVqcP311/Pjjz+eVW19+vTBx8cHl8tFcHAwV199ddFtd911FyEhIbi5uREREcF///tfwsPD+fbbbwGIiIggPDyciIgIvv76a5YtW0Z4eHjR9nbu3Fni8RYsWEDXrl0JDQ0lIiKCZs2aMXToUJYtW1Y0Jysri/Hjx9OjRw/q1KlDcHAwUVFR3HPPPaSkpJzV85LzZORv6SUSkbOhzwpjMjIyTNWqVc26deuMMca8/fbbxrIs065du1PO79atm3G5XGbgwIFm06ZNxhhjvv/+exMQEGA6duxYYn5UVJQZMGCAOXz4sDHGmP3795vrr7/e+Pj4mPXr1592+381efJk43K5zMSJE0vMnzRpkunbt+8Zt/FXw4YNMy6XyyQlJRUbf+KJJ4xlWWbChAkmNzfXGGPMmjVrTEREhKlbt27RvB07dhjLsszzzz9vcnJyjDHGrF+/3kRHR5tGjRqZ9PT0Eo9pWZbp3r37aWv6O2fzPnXKe9kZz/ICOOWNICIX5lw/K4By/ylrc+fONS1atCj6PTMz01SrVs24XC7zyy+/lJhfGC7ef//9YuO33HKLcblcZteuXcXGr7nmGrNv375iY8eOHTNubm7mlltuOe32/+ro0aPG19fXREdHl5jfpEkTs2jRojNu469OFYDWrVtnLMsy1113XYn5c+bMKRaA9u7da6655poS8z755BNjWZZ55ZVXStymAFQ6tAtMRERKxaxZs7j99tuLfvfy8uLmm28G4LXXXjvt/S677LJiv9epUweA3bt3Fxv/5JNPqFGjRrGxgIAAatasyfr168+qxsDAQG6++Wa2bt3KV199VTT+1VdfkZWVRe/evc9qO3/nzTffxLIs+vbtW+K2/v378/rrrxf9Hh4ezieffFJiXpMmTQDO+nnJuVMAEhGxgSnowJfrT1nasWMHK1euZPDgwcXGhw0bhjGGN998k9zc3FPeNzQ0tNjvXl5eQME6O3+1efNm7rnnHlq2bElYWFjRcTl79uwhPT39rGsdPnw4xhimTZtWNDZt2jTuvvvus97G39myZQsAtWrVKnGbr68vXbp0KTa2dOlS+vfvT+PGjYueV6dOnbAs65yel5wbd7sLEBGRi9+sWbNwc3OjZcuWJW7z8PDg0KFDfPTRR/Tv3/+8tr9hwwY6depE3bp1eeONN2jVqlXRbXXr1j2nbbVt25b27dvzwQcfcODAAfLz8/n88895+eWXz6u208nKyjrjnNdee40777yTG264gS+//JKaNWsCkJSUdM7PS86NOkAiInJBjDHMmTOHTz/9lL1795b4GT9+/AWvCTRr1iwyMjJ44oknioWf8zV8+HByc3OZMWMGr776Ktdddx1BQUEXvF2A6OhoAPbs2VPittzcXPbs2UNeXh4AL730EpZlMWXKlKLwI+VDAUhERC7I0qVLMcbQrVu3U95+yy234OnpyeLFi897JePC3WL/KzMzk3379p3z9gYNGkTVqlV55ZVXePXVVxk+fPgp5/n6+gIUBZaPP/6Y6dOn/+22Bw8ejDGGhQsXlrht+vTptGrVqmh7VapUOeU2tm3bdtbPRc6PApCIiFyQ2bNnM2TIkNPeXq1aNfr27Utubm6xA4BPd1zSqcZvvPFGPDw8eOaZZ4qOsTl27Bh33XXXaXc1/d1xT1WqVGHo0KHs2rWL6tWr07lz51POK9ylt379enJzc5kwYQK///57icf462O1adOGJ554gmXLlvHiiy8WHfu0fPlynnjiCZ599lk8PT0Bio6Zuv/++zly5AgAv//+O48++uhpa5dSUnYnmFUOeolE5Gw48bMiOTnZhIWFGQ8PD1O9enVz+eWXl5iTl5dnwsLCTEBAgHG5XMbb29uEh4cbNzc34+XlZVwulwkPDzeJiYnGGGPCwsKMv7+/cblcJigoyPTp06doW19//bXp0aOHCQoKMjVq1DBt2rQxL7/8somKijLu7u4mPDzczJ4928yZM8eEhYUV2/6IESNK1LZlyxZjWZaZMWPGaZ/jwYMHTb9+/UxISIipWbOm6d+/vzl06JBZunSpCQsLMz4+PsblcpnQ0FBz/fXXF7vvggULzOWXX25CQ0NNRESE6dSpk5k3b16Jx5gxY4Zp3bq18ff3N7Vq1TI9evQwM2bMMC6Xy/j4+Jjw8HCzdetWc88995iwsDDjcrmMl5eXCQ8PN2+//fZZ/30Zo9Pg/8oypoxPDbjIWZZV5mdPiMjFT58VF59t27bRrl07du/ejY+Pj93llIuzeZ865b3suF1g69at4+qrr6ZZs2a0atWKjh07Mn/+fLvLEhGRMmaM4fjx40W/T58+ncGDBzsm/EhxjgpASUlJXHnllYSGhrJhwwbWr1/P7bffzo033sinn35qd3kiIlKGdu7cSXR0NOnp6ezcuZPZs2fz8MMP212W2MRRAeizzz7jxIkTPPLII0VX77377rsJCAgocbE+ERGpXLy9vfHx8SEyMpIePXowYcIErbXjYI5aCNHdveDp5uTkFBvPz88vOiVRREQqp9DQ0GJncImzOaoDNGjQIKKjo3nuuedIS0vDGMPzzz9Pdnb2adeAEBERkcrHUR0gf39/li5dym233UZwcDD+/v4EBgayZMmSEtdmERERkcrLUR2grVu30qFDB+rWrcvRo0c5cOAAzz33HP369eOLL76wuzwREREpJ45aB+jGG2/k888/JyUlpdiy6v3792fVqlXs3bsXl6t4JrQsiyeffLLo927dup12uXcRcS6nrJ0iF7dTvU+XL1/O8uXLi35/+umnHfFedlQAatq0KQAbN24sNh4bG8vYsWPZunUr9evXL3abPtRE5Gzos0IuBloI8U+O2gUWGhpKcnIy+fn5xcZ37NiBZVlUq1bNpspERESkPDkqAI0YMYLjx4/zxBNPFI199dVXLFy4kEGDBlG9enUbqxMREZHy4qhdYABLliwhISGBffv24ebmhsvlYsiQIYwYMQIPD48S853SChSRCxMVFUVSUpLdZYj8rTp16rBjx46/neOU7z3HBaBz5ZQ3goiICDjne89Ru8BEREREQAFIREREHEgBSERERBxHAUhEREQcRwFIREREHEcBSERERBxHAUhEREQcRwFIREREHEcBSERERBxHAUhEREQcRwFIREREHEcBSERERBxHAUhEREQcRwFIREREHEcBSERERBxHAUhEREQcRwFIREREHEcBSERERBxHAUhEREQcRwFIREREHEcBSERERBxHAUhEREQcRwFIREREHEcBSERERBxHAUhEREQcRwFIREREHEcBSETKVU5ODkePHrW7DBFxOAUgESlzqampzJ8/n8GDBxMSEkJYWBjr1q2zuywRcTDLGGPsLqIisywLvUQi584Yw4oVK5gwYQKLFi0iKyur2O19+vThs88+s6k6ETkdp3zvKQCdgVPeCCKlJS8vjw8//JAxY8awZs0aoODfUefOnbn++uvp2rUrPXr0IC0tjTVr1tChQwebKxaRv3LK9552gYlIqcjKymLGjBk0adKEAQMGsGbNGqpVq84V1w2m3wPjMI3/ycb0EDp06MD9998PwDPPPGNz1SLiVOoAnYFTkrDI+Tpx4gTTp09n/PjxJCcnA1AzshahTS5j/WFf8nErmtu0Xji/vvsUKSkpREVFkZ6eznfffUf79u3tKl9E/odTvvfUARKR85KSksLjjz9O7dq1eeyxx0hOTqZly5a89dZbfLxkBT8eDigWfgC27TlIfn4+ISEh3HfffYC6QCJiD3WAzsApSVjkbCUlJZGYmMirr75KRkYGAP/4xz+Ii4ujT58+WJYFwBXDx/Pl2i10b9eYm3q2o1GdGtSPDKFWjWpYlsWBAweoW7cu6enprFu3jksuucTOpyUiJznle08B6Ayc8kYQOZONGzcyevRo3nrrLXJzcwFo2KIdzz71BDf1v7bE/B8278TdzUXLhpGn3eajjz5KYmIiPXv1ZvHni8qsdhE5e0753nO3uwARqdjWrFlDfHw8H374IQAul4tGrS8jyUTym3sgX289wU2nuF/b6Np/u939h47zW3YYWG4s+eJzfvjhB9q2bVsGz0BEpCQdAyQiJRhjWLx4MT169KBTp058+OGHeHp50bBtN2g+iK1uzchyDwRg1ser2H/o+Dk/xu+7DvDRqt8gpCkAD476T2k+BRGRv6UAJCJF8vLymD9/Pu3bt6dXr1589dVX+Pv7ExMTwzdrfmCbezT5Hn5F81s1imTm40MICvQ958e6rHUD7r2hK1SNAmD1uvWkZWT9/Z1EREqJdoGJCNnZ2cydO5cxY8awdetWAEJDQ3nooYcYPnw4VatWBeDmq9rzxqI1dLukETFDe9Grc7Oig57PR/x9/Xjvo8WkbIXc7Ey+/XkbV3ZsUirPSUTk7ygAiThYamoqr7zyCuPHj2fPnj0ABIeGc8fd9/JE3Ei8vb2LzX/yrr7cf1N3OjavWyqPH+DnzaWtG/PhKiAvh6TkQ6WyXRGRM1EAEnGggwcP8uKLL/Liiy9y5MgRAMIio8gOas5BtzC2ZASVCD8ADWqF0qBW6dbSpV1TPgR8PC1aNKhZuhsXETkNnQZ/Bk45HVCcYdeuXSQmJjJjxgzS09MBiKwXzRHfRqR51ICTu7Msy2LTe0/ROCqszGtKS0vDz8+PKlWqFK0rJCL2ccr3ng6CFnGAzZs3c/vtt1O/fn0mTZpEeno6vXv35pNFX3C0Zk/SPMOKwk+NoACev/c6woIDy6U2Hx8fXC4XmZmZResLiYiUNe0CE6nE1q1bR0JCAu+//z7GGFwuFzfddBOxsbG0bt0agHu2HGfc3CXUjwzh0cE9GXbtpVTx8ii3Gi3Lws/Pj+PHj5Oamlp0wLWISFnSLrAzcEorUCoPYwxffvkl8fHxLFu2DAAPDw+u/ucAxiU8S4MGDYrN35tylG9++p0BPdri5mZPU7hmzZrs3buXXbt2ERl5+pWjRaTsOeV7Tx0gkUoiPz+fDz74gISEBNauXQtAFW8fqtVrR7KrFikBLUuEH4CIkKrc2LNdeZdbjL+/P1BwZXkRkfKgY4BELnLZ2dnMmjWLpk2bMmDAANauXYtfQCDBTbuR2egGkqtEg6cvq37+g29++t3uck/NVbDL7fkZH7J5xz6bixERJ1AAErlIpaWlMWnSJBo0aMDtt9/Oli1bqF27NuPHT8Cv4+0c9G4E7l4AeHq4c2e/fxAZWjGPrzmUmg3Am598ww+bd9pcjYg4gXaBiVxkDh8+zJQpU5g8eTKHDhUsHNikSRNiY2O5+eab8fDwIC94MY9NWkCAbxWGD+zKgzdfQXg5ndV1Pvz9/TgIkK/FEEWkfCgAiVwk9uzZw/jx45k+fTppaWkANG3eiheee5prr70Wl+vPhu5d/boAcGe/LgT6lVzQsKKpVjWQ7XByNejDdpcjIg6gACRSwW3dupWxY8fy+uuvk5OTA0CNuk054FmfrPot6du3ePiBgktMPPqvq+wo97wEVTu5ay4/h537FIBEpOwpAIlUUD/88AMJCQnMnz8fYwyWZVGjfiv2e9Rjv28IAH/sTmHhVz8y8MpLbK72woSGBBX8IS+HpH3aBSYiZU8BSKQCMcbw9ddfEx8fz+LFi4GCNXyGDBnCf/d689uB7GLzr+rUlNph1e0otVTVrFEQ6C5vXZe7b7/a5mpExAkUgEQqgPz8fD755BPi4+NZvXo1AL6+vtx999088sgj1KxZk7mfrmbIk7NwuSxuvLIdo4ZcRZvo2jZXXjpCggtCXLvGEdzSu4PN1YiIEzgyAC1YsIDJkyeTnp7O4cOHqV69Og899BC33nqr3aWJw+Tk5PDOO+8wevRofv31VwACq1bjkYcf4r777iMoKKho7qBe7fl1217u7NeF+pEhdpVcJvz8/AAthCgi5cdxAWjChAm8+eabfPzxx4SHh5OXl8fQoUNZtmyZApCUm/T0dGbOnMm4ceNISkoCwL9qENnVm+JeuzWPjorFp4pnsft4uLuRMKK/HeWWucKVoFNTU22uREScwlEBaMeOHcTFxbFq1SrCw8MBcHNzY9y4cezdu9fm6sQJjh49yssvv8zEiRNJSUkBIDA4nNSAaE4E1gOXG1knspj10Uruu7G7zdWWH3WARKS8OSoAzZ07l2rVqtG2bdti42FhYYSFhdlUlTjBvn37mDBhAlOnTi36km/Xrh3ZQS34OcUdLKtobuM6NSr0ooXbpX8tAAAgAElEQVRlQR0gESlvjroUxrfffktUVBTvv/8+l19+OU2bNuWyyy5j1qxZdpcmldQff/zBPffcQ1RUFGPGjOHEiRNcccUVLF26lO+++46xTz1aFH46tajLwnHD2fjeU/Tv0fYMW65cCgPQbzv2cP/ot4mftcjmikSksnNUB2jXrl3s2LGDxMREPvjgA0JCQpg/fz4333wz+/btIy4uzu4SpZJYv349CQkJvPvuu+Tn52NZFv369SMuLo727dsXzevZsQkjburOwCva0qVNQ6y/dIKcpHAX2J7kA7z03nLaNa1D3G19bK5KRCozyxhj7C6ivDRs2JBt27bxzTff0Llz56LxgQMH8sUXX5CSkkKVKlWK3ceyLBz0EskFWrFiBfHx8SxaVNDBcLm54VuzGVnVm7Fr2TRCqwfYXGHFtHv3bmrVqgUePtByMCHV/DmwZJzdZYk4klO+9xzVASpss7dq1arYeJs2bVi4cCEbN24scXwQwFNPPVX0527dutGtW7eyLFMuMsYYPv30UxISEli5ciUAHp5euIc1IyMwmhOeBd2NF+d9xbPDr7Oz1AqrsANEfi4AKUdOkJ6ZXeJMOBEpfcuXL2f58uV2l1HuHBWAoqOjWb9+Pfn5+cXG3dzcAEqMF/prABIplJuby7x58xg9ejS//PILANWqVaN2yy6sP1qVHPc/u4nVAnwuiouS2qUoAOXlgDFgWezcd5joKJ2cIFLW/vc/9k8//bR9xZQjRx0Efe211wLw888/Fxv/5Zdf8Pb2plmzZnaUJReZjIwMXn75ZRo2bMjgwYP55ZdfiIiIIDExkZ07d/L6K1PgZPiJrFGN8Q/fwM5P4i+qi5OWN3d395O7nw2YPACSknVNMBEpO446Big/P59LL70UHx8fPv74Y3x9fVmxYgU9e/bkqaeeIjY2tsR9nLIvVM7s2LFjTJ06lYkTJ7J//36g4LiymJgYBg8ejJeXV9HcEWPe5pImdbildwc8PRzVaD1voaGhpKSk8O+Jb9G8cX26t2tMmMOWAxCpCJzyveeoAAQFC9HFxMTwxRdf4O3tjZeXFw888AC33377Kec75Y0gp7d//34mTpzIyy+/zPHjxwHwC6pJamATNi19nei6ETZXWDnUq1eP7du38/vvv1O/fn27yxFxLKd87znuv6ZVq1Zl+vTpdpchF4Ht27czbtw4Zs6cSWZmJgC+oVGkBTYl1b8mWBYT3vqS6f832OZKK4fCkxS0GrSIlAfHBSCRM/nll18YPXo077zzDnl5BcejNG7VkS2ZYaT51Sia5+bmIt8YjDGOXb+nNBUeCK3VoEWkPCgAiZy0atUq4uPj+eSTT4CCswOHDBnCqFGjCAgKp951/0duXj4+VTz5f9ddxsjBPakTHnSGrcrZUgdIRMqTApA4mjGGzz//nPj4eFasWAGAt7c3d9xxByNHjqROnTpFcx8Y1IMA3yrcd2N3gqv62VVypaULoopIeVIAEkfKy8tj/vz5JCQk8NNPPwHgWcWHnOrRvPfGVK7p3qHEfRIfvqG8y3SUwg7QwmXf8cXmTJL2HeL1p4ZRM7SazZWJSGWkACSOkpmZyZw5cxgzZgx//PEHAF6+AWRVbUJ2SBNw8+SVj9edMgBJ2SrsAK36cTM7vy/oAm3bc1ABSETKhAKQOMLx48eZPn0648ePZ9++fQCEhtfkgEddsoIagevPfwpHTqSRlZ2Dl6eHXeU6UmEHKKCKO6QXjCUlH6JLm4Y2ViUilZWjVoIW50lJSeE///kPderUYdSoUezbt49WrVrx9ttvs3HjJgKi2haFn39e3oqVr43ivzMeU/ixQWEA8vnL5b+Skg/bVI2IVHbqAEmllJSURGJiIq+++ioZGRkAdOnShbi4OHr37l102voDg3qwa/8RRg25iqb1tKChnQp3gXm5/TmWtE+XwxCRsqEAJJXKr7/+yujRo3nrrbeK1vDxCKrLU08+zr9H3FZivq7OXnEUdoDcyCsa25tyzK5yRKSSUwCSSmHNmjXEx8fz4YcfAmC5XLiFNCIvuAU5PkF89P1+4rRgYYVW2AHy9oDZTw3Dt4ontcKq21yViFRWCkBy0TLGsGTJEuLj41m+fDkAnl5e5AQ2wIS2IM8roGju/sPHOXD4BDWCAk6zNbFbYQcoNzuLoX0721yNiFR2OghaLjp5eXm89957tGvXjl69erF8+XICAgKIjY3l99//oGa7vnAy/LRsGMmbz/0/fnv/WYWfCk6XwhCR8qQOkFw0srKymDt3LmPGjOG3334DIDQ0lIcffpjhw4cTGBgIwCO3XMlH/11PzNBe9OrcTLu9LhK6FIaIlCfLOOGa9xfAsiz0EtkrNTW1aA2fvXv3AuDhW5UBN9/GzMnP4+3tXWx+fn4+Lpeamxebbdu2Ub9+faKioti+fbvd5Yg4llO+99QBkgrr4MGDTJ48mSlTpnDkyBEAPPxDyAluQU61enx3wBsPD88S91P4uTipAyQi5UkBSCqcXbt2kZiYyIwZM0hPL1gS2C0gnLyQluQE1oaTu7QOHDnBr9v20qpRLTvLlVLy12OA7nh2DsdSM0jLyObD8ffi4e52hnuLiJwbBSCpMDZv3syYMWN44403yMnJAaBPnz7ExsbywLSvWb91NwCh1f15cFAPhg/sSrUAXztLllJUpUoV3NzcyMrK4t3F33Eio+A9kJaRRVV/H5urE5HKRgFIbLd27VoSEhJYuHAhxhhcLhc33XQTsbGxtG7dGoCY9Cr8Z+qHPPavqxjatzPeVUru+pKLm2VZ+Pn5cezYMXw8XZwoWMBbAUhEyoQCkNjCGMOXX35JfHw8y5YtA8ByuXHJP67knZlTaNCgQbH5N/Zsxw1XXoK7doVUav7+/hw7dowqf/lkSk3Psq8gEam0FICkXOXn5/PBBx+QkJDA2rVrAXC5e5IfFI2p0ZLtHiGE1yx5TI+bmw5sdoKi1aD/8smUlpltUzUiUpkpAEm5yM7O5s0332TMmDFs3rwZADdPH/KCm5If0gzcvQA4cjydr9ZtoW+XlnaWKzYpPBPM05VfNJaanmlXOSJSiSkASZlKS0tjxowZJCYmsnt3wUHMtWvX5rHHHuODXzJY9v3vAHh6uDO0byceHXwVjerUsLNksVFhABrUszX/jm6Fr7cXzepF2FyViFRGCkBSJg4fPsyUKVOYPHkyhw4dAqBp06bExsYyaNAgPDw8aLp2M2s3T2X4wK48ePMVhAcH2ly12K1wF1iT2sFcf1V7m6sRkcpMAUhK1Z49exg/fjzTp08nLS0NgLDaDZg2eRzXXnttsUUKu7drzK5PEwjw8z7d5sRhtBiiiJQXBSApFVu3bmXMmDHMmTOnaA0fAiIhrDWHq9ei0z+6l1ih2bIshR8pRhdEFZHyolNr5IJ8//333HDDDURHR/Paa6+Rk5ML1epBk/7Q8GrwjyA7J495S9bZXapcBNQBEpHyog6QnDNjDMuXLyc+Pp4lS5YA4OHhwdChQzngWY+P1uwomntVp6bEDO1F93aNbapWLibqAIlIeVEAkrOWn5/PRx99REJCAmvWrAHA19eXu+++m0ceeYSaNWvyy+97+PTW5xjYoy2jhvaibXRtm6uWi0lhB2jD1h0MiptBWmYWfS5tzr03dLO3MBGpdBSA5IxycnJ4++23GT16NBs3bgSgio8fcTGPcf/991O9evWiuS0a1GTXpwk6o0vOS2EH6MDBw6z8vWC3aURwVTtLEpFKSgFITis9PZ2ZM2cybtw4kpKSALA8/TChLcgMacKNQ+4qFn4KKfzI+SrsAOVm/3n5i9QMXQpDREqfApCUcPToUV566SUmTZpESkoKAJZ3VUxoK0z1BuAquB7XtAVfM3HkTXaWKpVMYQcoN/vP1Z/TFIBEpAwoAEmR5ORkJkyYwLRp04rOwmnfvj0RLbry4U/HwLIAaFynBqOG9OLWPh3sLFcqocIOUHZWJpy87q06QCJSFhSAhD/++IMxY8Ywe/ZssrMLLjx5xRVXEBcXR48ePdibcpTP/vl/tGlci9hhvbmua6sSa/qIlIbCDlBWVgb4FIypAyQiZUEByMF++uknEhISeO+998jPzwfLYsCAAcTExNC+/Z+XIagZWo0N856kYe1QrJNdIJGy8OcxQJm8Of7/4VvFkxpBATZXJSKVkWWMMXYXUZFZlkVleomMMXzzzTfEx8ezaNGigkHLBdUbQFhr/jv3Obq0aWhvkeJYe/bsITIykvDwcPbu3Wt3OSKOVNm+905HHSCHMMbw6aefEh8fz6pVqwoGXe4QHA01WoJnwa6H8W8uVQAS22glaBEpLwpAlVxubi7z5s0jISGBDRs2AFCtWjUu6Xo1S7e7gXuVgrEAH+67oRsjbupuZ7nicL6+vgCkpaWRn5+vY81EpMwoAFVSGRkZzJo1i7Fjx7Jjxw4AIiIiGDlyJHfddRf5uFG7bxx+Pl48csuV3NmvC/6+VewtWhzPzc0NHx8f0tPTSU9PLzooWkSktCkAVTLHjh1j6tSpTJgwgQMHDgDQsGFDYmJiGDx4MF5eXkVzv5z2CM3rR+DpobeBVBz+/v6kp6dz4sQJBSARKTM6CPoMLpaDwfbv38/EiRN5+eWXOX78eMGgTzCEteadl5/npl5as0cuDg0aNOCPP/7glkcTScuvQmpGFvNeuJOgqgpDIuXhYvneu1D6r/9Fbvv27YwdO5aZM2eSlXVyvRS/cAhvA/41wbIY9+ZSBSC5aBQeCP3Vmg0kp3sAcCw1QwFIREqVAtBF6pdffiEhIYF58+aRl5cHwCWdLuf7I9XArwYAbm4ubr6qPaOG9rKzVJFzUrjby8vtz/+BajVoESltCkAXmZUrVxIfH8+nn34KgLu7O0OHDmXUqFE0bNSYBtf/h5QjJ7jj+n/wyK1XEhURbHPFIuemsAPk+ZcApNWgRaS0KQBdBIwxfP7558THx7NixQoAvL29ueOOOxg5ciR16tQpmvtuwl3UjwwhWLsL5CJV2AHysPKKxlLTFYBEpHQpAFVgubm5zJ8/n4SEBNavX18w6OYJIc144tnHib2jX4n7dGxet5yrFCldhR0gN/KLxtIys+0qR0QqKQWgCigzM5PXX3+dMWPGsG3btoJBDx8IbQEhTcDNk+kfreXRYf/E3d3N3mJFSllhB+jyVlE8efUA/Hyq0LpRpM1ViUhlowBUgRw/fpxp06YxYcIE9u3bB0BEzVrsdYuCoIYFl64A/tG6ATFDe+Fy6cKkUvkUdoBCA6vQv0dbm6sRkcpKAagCSElJYdKkSbz00kscPXoUgFatWhEXF8eAAQPoMDSBH7fs4touLYkZ2ovLWjewuWKRslPYAUpNTbW5EhGpzBSAbLRjxw4SExN57bXXyMjIAODyyy8nLi6OXr16YVkFHZ6XY2/B36cKzepH2FmuSLnQBVFFpDwoANng119/ZfTo0bz11ltFa/gQWJuhdwxn9rjYEvM7tahXzhWK2EcdIBEpDwpA5Wj16tXEx8fz0UcfnRyxoHoDCGsN3tX56If9nEjL1EVJxdHUARKR8qAAVMaMMSxevJj4+Hi+/vprALy8vMgKqA81WoJXAABREUGMvLUnHjqrSxyuMADtTj7AgMemkZqRRde2Dfn37VfbXJmIVCYKQGUkLy+PBQsWkJCQwI8//ghAQEAA9913Hw8++CC3Pf8ui1ZtoGXDSGKG9uLGKy/RKe0i/LkL7Oix46z76uS/HXVFRaSUOToAdenShZUrV7Jjxw5q165dKtvMyspi7ty5jBkzht9++w2AGjVq8NBDDzF8+HACAwMBeO7e6xhxU3d6X9qs6GBnEfmzA5SdlQG+BWO6FpiIlDbHBqAFCxawcuXKUgsfJ06c4JVXXmH8+PHs3bu3YNDTn8t69WfJvKl4e3sXm982unQCl0hlU9gByjp5ZiToWmAiUvocGYBycnKIi4vjmmuu4bPPPrugbR08eJDJkyczZcoUjhw5UjDoXb3gwOZq9Vib4snRtOwSAUhETq2wA5SZkV40pmuBiUhpc2QAmjJlCh06dKBhw4bnHYB27tzJ+PHjmTFjBunpBR/Ull8YJqw1BNQCy8LPx4u7+1+Ou5urNMsXqdQKO0Bp6WlFY2kZuhaYiJQuxwWgw4cPM27cOFavXs3MmTPP+f6bNm1izJgxvPHGG+Tm5gLQp08f4uLimPnlH8z++FtCqvnz4KAe3HtDV6oF+Jb2UxCp1Ly8vPDw8CAnJ4c3nxlG1QA/qgfq35GIlC7HBaBnnnmGIUOGUKtWrXO637ffribm/55gxfKlYAwul4tBgwYRGxtLq1atAAip1ZAOzeoyrG9nvKt4lkX5Io7g5+fHkSNH6NWxEUFBQXaXIyKVkKMC0G+//cb8+fPZtGnTOd0vtE40KTu3FPxiuajVvDNfLnydBg2KX5MrOiqM6Kiw0ipXxLH8/f05cuQIJ06cUAASkTLhqAAUGxtLXFxc0UGWZytl5xZweUBIU6jRgj1evvhWDSmjKkVEl8MQKX+//fYbY8eOtbuMcuOYALRixQo2bNjAu+++WzRmjDm7O/tFgG8IAQF+dGlXiwfuHExotXMLUSJy9nQ5DJHy88orrzBp0iQ2btxodynlyjEBaOnSpeTn59O+fXugIPzs27cPgKuvvhpPT09eeOEFevfuXeK+E6a/Tu9Lm9O4Tg0tWihSDtQBEilbxhi+/vpr4uPjWbx4ccGg5YLqDeHQFnuLKyeWOes2SOXz9NNP88wzz7Bjx47THhRtWdbZd4pEpFT069ePDz74gL5DHyE/MIrUjCxmPzmMujWD7S5N5KKWn5/Pxx9/TEJCAqtXry4YdLlDcBOo0QI8/eD7VxzxveeYDtCpFP4F5+fn21yJiPxVYQfol61JJGUXdIEOHUtVABI5Tzk5ObzzzjuMHj2aX3/9FYCgoCA8a7Yi2YoE94Lr7bWNrs0P39tZaflx5Ap9ixYtok2bNrzyyisAXHPNNbRt29bmqkSkUOExQB5WXtGYVoMWOXfp6elMmTKFhg0bMmTIEH799VciIyOZMGECSUlJTBibgEcVX27p3YFVM0exbu6/7S653DiyA9SnTx/69OljdxkichqFHSAXfwlAuh6YyFk7evQoL730EhMmTuTQwYMANG7cmJiYGG699VY8PQvWqhvQoy1d2jQkIqSqneXawpEBSEQqtsIOkMvkFo3pgqgiZ5acnMyECRN4eepU0gpPIvAJwbdeR1avfIeq/3N1And3N0eGH1AAEpEKqLADZOX/GYC0C0zk9P744w/Gjh3L7Nmzyco6+W/FvyaEtQL/mqRZFu8u/Z67+l9ub6EViAKQiFQ4hR2ghjWrMfrBe/HzqUITrbIuUsL69etJSEjg3XffJT8/H8uyqFG/Jfs96oFvKAAdm9cldlhv/nl5S5urrVgUgESkwikMQFXc4drLW9lcjUjF88033xAfH89nn30GgLu7O0OGDCEmJob9aS663Z1I70ubETOkF10vaaQ17E5BAUhEKpzCXWBaCVrkT8YYPvvsM55//gW+/XYVAD4+Ptx5552MHDmyaD27xsawaf7TujblGSgAiUiFU9gB0krQIpCbm8u7777L8y+8wMaTa/jg5oUrrAVrls2jeeN6xeZblqXwcxYUgESkwlEHSAQyMzOZNWsWY8eOZfv27QWDHj5QoyUER5Pv5sk7y37muf8JQHJ2FIBEpMJRB0ic7NixY0ybNo0JEyawf/9+AAKq1+C4f+OCa3W53IisUY1HbrmSO/v9w+ZqL14KQCJS4RR2gI4cOco/H36J1Iws2kbXZtxDA22uTKTs7N+/n0mTJvHSSy9x/PhxANq0aUNcXBxN2nSmxaBnaVovnFFDenFzr/Z4eugr/ELo1RORCqewA5SWnsbHK362uRqRsrV9+3bGjh3La6/NJDu7YA2fbt26ERcXR8+ePYvO4Fo9O5b2TevgcjnyKlalTgFIRCocHx8fADIzMsAYsCytBC2VzoYNG3jhhXjmzZtHfv7Jy74E1uHNV1/kloHXlpjfsXndcq6wclOMFJEKx+VyFe0GIz8H0LXApPJYtWoV1157LS1atODtt98iPz+/4NiepjdAg14s+fWQ3SU6gjpAIlIh+fn5FRwEnZcDbp6kZWTbXZLIeTPG8Pnnn5OQkMB///tfANw9PMmt2rDgrC4vf3yqeHJnv3/wyK09ba7WGRSARKRC8vf3Z9++fX92gNIzba5I5Nzl5uYyf/58EhISWL9+PQCBgYHcf//93HTrMNrdPgE/Hy9G3NidETd1J6iqn80VO4cCkIhUSIW7wMaNuI5Wrdvg71vF5opEzl5mZiZz5szhuRfi2ZW0A4CwsDAeeeQR7r77bgICAgD4bNL9dGpRD19vLxurdSYFIBGpkArPBLukcQTdOjaxuRqRs3PixAmmTZvGmLHjOJhyoGDQK4BHHhnJ80+MokqV4kH+ig56b9tFAUhEKqTCDpAWQ5SLQUpKCpMnT2bipMmknihYwwfvIAhrBdXq8euJwBLhR+ylACQiFVJhB0iXw5CKLCkpicTERF599VUyMjIKBv3CIKw1BNQCy+K6rq2IGdrL3kKlBAUgEamQ1AGSimzjxo2MHj2at956i9zcXAD69u3LAw89zE3Pf8yJtEwGX92Rx/51FU3rRdhcrZyKApCIVEjqAElFtGbNGp5+5lkWffYpAG5ubtx6663ExMTQokULAN7yDqVZvQhqhVW3s1Q5AwUgEamQCjtAC5etZdHvE0nNyOTlmFtoE13b5srEaYwxLFmyhKeeeZZvV35TMGi5cVXffkybNIa6dYuv0Nz70uY2VCnnSgFIRCqkwg7Qrr37Sdq/CYADR9QNkvKTl5fH+++/z1PPPMvGDb8UDLo8ILQZhDbngF9joqKibK1Rzp8CkIhUSIUdIMvkFo3pemBSHrKyspg7dy5jxozht99+Kxh094YaLSCkKbh50rJhJI8NuQpjTNHFSuXiogAkIhVSYQeIvJyiT6rUdAUgKTupqam88sorJCYmsnfvXgDq1q3LI4+MZNznSSTtO0a3SxoRM7QXvTo3U/C5yCkAiUiFVHQx1LycorG0TF0PTErfoUOHmDhxEhMmTSLt5Bo+zZs3JzY2lptuugl3d3catN1AtQBfXZG9ElEAEpEKqbADlJ/7Z9dH1wOT0rRr1y5Gjx7DjFdfJTur4L1Vt1EzJicmcM011xTr8OjA5spHAUhEKqTCDlCgjwefv/gAvt5e1I8MsbkqqQw2b97MM889z7x33iE/7+QxZgG1IKw1uQ2a0qt3H+3ecgAFIBGpkAo7QLnZmfTq3MzmaqQyWLt2LQkJCSxcuBBjDGBBtfoFqzb7BBFa3Z97BlxObm4eHu5udpcrZUwBSEQqJK0ELaXBGMOXX35JfHw8y5YtA8DT05Nhw4ax6oAfG3alUq9mMI/96yqG9u2MdxVPmyuW8qIAJCIVklaClguRn5/PwoUL+c8TT7N5Y8EaPv7+/gwfPpyHHnqI8PBwln23iYNHUxnQoy3u6vg4jmUK+oByGpZloZdIpPxlZ2fj5eWFu7s72dnZOiZDzkp2djZz587lyaefY8+uHQB4+wXwf7GjuPfee6lWrZq9BV4EnPK9pwB0Bk55I4hURF5eXmRnZ5ORkUGVKlXsLkcqsLS0NKZOm8YL8WM4cuhAwaCnH9RoSUCd1uxaNI4AP297i7xIOOV7T7vARKTC8vPz4/Dhw1x9fyLZxoOGtUOZ9eQwu8uSCuTw4cNMmTKFyZMnc+jQoYLBKtUgrBVUb4Cnpyc39e5EZnYOASgAyZ8UgESkwvL39+fw4cN8tWYDeAWQqkthyEl79uxh/PjxTJ8+nbS0NAA6depEbkhL1u0xBPh5M3xgVx68+QrCgwNtrlYqIgUgEamwil0OA0jL0ErQTrd161Yef/IZFi54l5ycgvfFVVddRVxcHF27duW7X3fw1botDB/YlUDt8pK/oQAkIhVW0eUw8gu+6LQStHP98MMPxP7fEyz5/DPAgGVxww03EBsbS9u2bYvmdWxeV5erkLOiACQiFVaJDpCuBeYoxhiWL1/OqLjHWbdmZcGg5YKgxrhHtGH8iy8RWUNndcn5UQASkQqrZAcoC2OMTomv5PLz8/n4449JSEhg9erVBYMudwhuAjVagqcv3Ts20TFhckEUgESkwirsAD08qCvX9b8RX2+t0luZ5eTk8PbbbzN69Gg2btwIQFBQEHVaXs4Ph/1xeXoz8Iq2xAztTdvo2jZXKxc7BSARqbAKO0D1wqvS9ZJGNlcjZSU9PZ2XXp7GxIkT2LtnNwCRkZE8+uij3HHHHexOOcHEt5cxcnBPGtQKtblaqSwUgESkwtLlMCq3I0eOMHrseF58cTLpqccBiI6OJiYmhltuuQVPz4KOX2NfX6bG3WpnqVIJKQCJSIWlC6JWTsnJyTzx9PO8Pvs1crJOntnnEwJhrXnnw9do1aiWvQWKIygAiUiFpQ5Q5fL7778zduxYZs+eTXb2yTP6/GtCWGvwj6BRnTCOHE+3t0hxDAUgEamw1AGqHH766ScSEhJ47733yM/Px7IsGrfuzJbMGuAbSodmUcQO6811XVvhcrnsLlccQgFIRCqswg7Qxt+S6HnvRJIPHuOu/l14YFAPmyuTMylYw+drnnnuOZZ/uQwAd3d3hg4dyqhRo6gWEsGdz83lkVuvpOsljbS0gZQ7BSARqbAKO0BHjx9nzXebAPh91wE7S5IzMMaw8IMPeSzucbZt2QCAj48Pd955JyNHjqRWrT+P7/lown12lSmiACQiFVdhB8jkZoNHwVjywWM2ViSnk5uby6zX5/L4k8+wf8+OgkE3LwhtxpxZLzKg16W21ifyvxSARKTCKuwA5eVkw8nrWioAVSwZGRnMnj2bsWPHsn379oJBD5+CFZuDm1CtWiDpuTquRyoeBSARqbAKO0DZWRlFY/sOHberHBXIEp4AABbcSURBVPmLY8eOMXXqVCZOnMj+/fsBCAmrSYpXfajekJphQYy8tSd3XP8P/H2r2FytSEkKQCJSYRV2gDIz/jw1OvngMV0PzEb79+8nfvRYZr02g+PHC8Jo27ZtiY2NpVefa+j78Evc/s/LuKV3Bzw99BUjFZdljDF2F1GRWZaFXiIRe6SlpeHn54e3tzfvfrGa8OBAwoICiAipqgBUzrZt28aDj/6bzz5aQH5eLgDdu3cnLi6OK6+8Un8flYhTvvcUgM7AKW8EkYrIGIObmxvGGHJzc3Fzc7O7JMf58cefGDEyjpXLF4PJLxgMrMNTTz7Okw//P3uLkzLhlO899SdFpMKyLAs/Pz9OnDhBamoqgYGBdpfkGKtWrSI+Pp5PPvnk5IgF1RtCWGvc/IIwProoqVzcFIBEpEJTACo/xhg+//xz4uPjWbFiBQAenv+/vTuPqqpc2AD+nHM4TAJqgAyOqMigoCKUWZGapd6yweVQDillZOp1RsBrod5uKqK4/GwwC70h3taX2HS11EjLOZMCEfNDGRxAAkFAJg/n7O8PggBFrJR3H9/nt5Zr2XtAHvbap/2cdw+vFQxtewIu/rBxuA/Tnn0Y8ycOQzd3J8Fpif4aqQpQSkoK3n77bRw8eBB6vR5GoxGPPfYYXn/9dTg58c1MpEb29vbIy8vjemB3UU1NDbZt+xhr18YgJSUFANCuXTvMnDkTM2fOwrMRmzFiUG/8ffxQOLWzE5yW6M6QqgCNHz8efn5+SE5OhrW1NfLy8jB06FDs3r0bKSkpsLKyEh2RiJqouxOMBejOq6qqwso167F2zRqUFdc+YdvV1RXz58/Hq6++CgcHBwDA0S0RvMiZ7jlSPZ1Kq9UiOjoa1ta1z6Rwc3NDWFgYMjIysGvXLsHpiOhm6p4F9P2P6Rj00ip4PL0Yr7wZLziVeSstLcWs+RFo5+SKZUvCa8uPlQPGhMxBVlYWwsLC6ssPAJYfuidJNQOUmpoKC4vGv7K7uzsURUFxcbGgVER0K3UzQKWlpTiSmgkAyM69IjKS2fr111+xfv16xKxdh+rK8tpBG0fAtR/Q3gM6l971HxCJ7nVSFaCm5QcAzpw5A61Wi+DgYAGJiKgldTNA1g3ugOdyGH9MTk4OYmJi8OGHH6Ky8renatu5Aa59AYfOGBXcF+FThuOhfj3FBiVqRVIVoKZMJhPi4uIwbdo09OzJNz6RGtXNAFlojPVjeVdYgG5HaupJxMSsxrZt22A01m6/UaNGITw8HJFbDsPD3Qlhk59An54dBSclan1SF6Dly5fD0tISsbGxoqMQUTPqZoA0Sg10Oi2MRhOKSspRfd0AK0u94HTqtHvvt5gbthi/pBwDAOh0OkyaNAmLFi2Cn58fAGDfwAeh00l1GShRI9IWoM2bN2P79u347rvvYGNjc8uvXbp0af3fBw8ejMGDB9/dcERUr24G6Nq1a3C5zwG5BVcB1C6K2tXNUWQ0VVEUBVs/TsTi16Nw8Vx67aBGh/4PDUPiR+/Cw8Oj0dez/FCd/fv3Y//+/aJjtDopC1B8fDxiY2Oxb98+ODq2/D/QhgWIiFpX3QzQtWvX8FnMLNjZWsHNqS3a2t36g4ssjEYjEhMTERa5BOczM2oHtXqgQ2+gQx/UdPRE165dxYYkVWv6wX7ZsmXiwrQi6QrQ1q1bsXr1aiQlJcHZ2RkAsHPnTuTm5uKVV14RnI6ImqorQGVlZQjq3U1sGBWprq5GfHw8oqOjkZHxW/GxsAFc/ABnX/h5eSB8ynCMezwQWi1ne4iakqoAJSQkIDQ0FG+++Sb27NlTP37gwAG4u7sLTEZEzWl4Coxqi+CmTZuwZs0a5ObmAgA8PDwQFhaGXaerUVpVg4gpIzBiUG8+v4foFqQqQLNnz0Z1dTXCwsJueC0qKkpAIiJqScMZIJnlXc7Ha/MW4787/gPj9dpb2f38/BAREYFx48bBwsICU6uuw8baUnBSIvMgVQG6coUPTyMyN7LPAJ3JOIvQ2eE4sPdLKEYDAMC5c0/EvROLJ598stEsD8sP0e2TqgARkflpbgZIUZR7+hTP6dOnMTdsMfbs+gJQTLWDDp0Bt/6oce+OwUOH3dO/P9HdxgJERKrWcAbol+zLeH7xJuQVlqCbmyOO/TtScLo77/jx41ixYgU+++wzKIoCQAO07wG49oNzx26Y+8JQvDbmUdjZcskKor+CBYiIVK3hDJCNlR4p/3cRAGCh093q28yKoihISkrCypUrkZSUBACwtLRESEgISmw9cexcEcImP4GpTz3I01xEdwgLEBGpWsMZIFfH31cozy8qhdFoMusH+hmNRrwV+y7WrF6Nkl/PA6gtfK+99hrmzp0LNzc3lFyrRBtrS1hY3DuFj0gNWICISNXqClBZWRks9RZo72CL4tIKGI0mXCm5hg73ObTwL6hPVVUVFkWtwqaNb6OqpAAAYGljh6glkZgxYwbatWtX/7V84CPR3cECRESqptfrYWVlherqalRVVcHNqS2KSysA1K4Kb04FqLy8HP9cEYM1a9eiprK0dtDSDnDpC4OzFyZMDW1Ufojo7mEBIiLVs7e3R3V1NcrKyuDm1BbpmXkAgF+LzOPZQEVFRdiwYQPWr1//++M4rNsDrv2g79ALU0Y9hIWTHkc3dyexQYkkolFqbzOgZmg0GnATEYnl4eGB7OxsnDt3DoqlPSx0Wrg6Oqh+NfiLFy8iNjYWGzduRHl5OQBg4MCB6NJvKHadKsOMMY9izguPwd2Zsz6kHrIc9zgDRESq1/BOsL59uwtO07KkA8fw9/kRyPj5IGpqagAAw4cPR2RkJIKDg1FaXgVFUdDO3lZwUiJ5sQARkeqZy9Og/7NjJ8L/EYULv5z4bUSDsWPHIiIiAgEBAfVfxwubicRjASIi1VPzemCKomDH5zvx6uyFuHLhTO2gRgs49gJc/PH3yDcR0N9TbEgiugELEBGpXsNb4dXCZDLhiy++wMqVK3Hs2LHaQa0F4OwLdPDDsIcDET5lOB7u11NsUCK6KRYgIlK9uhmgpqfAKgWsfm4wGLBt2zasWrUKp0+fBgA4Ojriwceexs4ME8YOH4RFLw7HAJ+urZqLiP4YFiAiUr2GM0AVVdfRb8I/kVdYApNJwbUD61tlUdDLv17B9AWv4+DuHbhSkA8A6NSpExYuXIhp06ZBq9PjUsFV9Ozc4a5nIaK/jgWIiFSv4QyQjZUeF/OLUVltAACUlVfB4S5eVHzmXA5C50biwO7PoBgqAQBe3t6ICA/HhAkTYGn5+wwUyw+R+WABIiLVazgDpNFo4ObUFpmXCgHUPg36bhSgzKwcPPfiDKQe3guYassWbJ0B1374R8wyTH7ywTv+M4mo9ZjvKoJEJI2m1wC5ObWtfy2vsOSO/qyzZ88iNDQUPt69kHpwV235se8IeD4JzydexaY1b2Dc44F39GcSUevjDBARqV7Tu8DuRgH6+eefsXLlSnzyyScwmUzQaDQY+MhjOFpgj6Cg+xE+ZTieHdzPrFefJ6LfsQARkeq5u7sDAA4dOoSamhq4OtYugKq30KGsoupP/7s1NUb8a30cPon/AKd+/gEAYGFhgSlTpmDRokXw9OyFw6nn8HC/nq1yoTURtR6uBdYCWdZEIVKzmpoa+Pj44OzZs/joo48wctRzAID7HGyh1f7xGZmKymqELV+LuPffQVXRRQCAra0tQkNDMX/+fHTu3PmO5icyJ7Ic91iAWiDLjkCkdlu2bEFISAg8PT2Rnp4OC4s/PoFtMBgweeY/kPifzai5VnsRNXRWQIfeiFoSgaUzxt7h1ETmR5bjHgtQC2TZEYjUrqamBl5eXsjMzER8fDwmTZp0299bWVmJuLg4xMTEIDs7u3ZQ3wZw8UPbbgGY9cLjmP38UHS4z+HuhCcyI7Ic91iAWiDLjkBkDuLi4vDyyy/Dy8sLp06dgk6na/S6oiiNrtW5evUq3nnnHaxbtw4FBQUAgE5duuGipgvcvQKxYPIIvPLcI7BvY92qvweRmsly3GMBaoEsOwKROTAYDPDy8kJWVhYSEhIwYcKE+tf+5+Nvse/EGSwOGYl/f/oNkv67HRdPHa6/c2zAgAGIiIjAc889h50H0zBiUG9Y6nkfCFFTshz3WIBaIMuOQGQuPvzwQ0ybNq1+Fkir1WLumv/F+o+/BSqLgfwUoOgsoJgAAEOGDEFkZCSGDRvGO7mIboMsxz0WoBbIsiMQmQuDwYBevXohOzsb27ZtQ58+ffBa+L9waP83QOWV375KA7T3QFhYGKIjpwvNS2RuZDnusQC1QJYdgcicbNq0CaGhodDpdDAajb+/oLWApYsPRo6egJfGjsQTA31hbaUXF5TIDMly3GMBaoEsOwKRObl+/Tp8fX1x7tw5ODs74+mnn8YzzzwDH/9AdHF35rU9RH+BLMc9FqAWyLIjEJmb/Px8nD9/HgEBATfcDUZEf54sxz0WoBbIsiMQEREB8hz3uKofERERSYcFiIiIiKTDAkRERETSYQEiIiIi6bAAERERkXRYgIiIiEg6LEBEREQkHRYgIiIikg4LEBEREUmHBYiIiIikwwJERERE0mEBIiIiIumwABEREZF0WICIiIhIOixAREREJB0WICIiIpIOCxARERFJhwWIiIiIpMMCRERERNJhASIiIiLpsAARERGRdFiAiIiISDosQERERCQd6QpQQUEBJk2aBG9vb/j4+GDs2LG4dOmS6FhERETUiqQqQAaDAcOGDYPBYMDp06eRnp6ONm3aYMiQIaioqBAdj4iIiFqJVAVoy5YtSEtLQ3R0NDQaDTQaDVatWoXMzEy8++67ouMRERFRK9EoiqKIDtFaRo4ciV9++QVZWVmNxv39/WFnZ4fDhw/f8D0ajQYSbSIiIpKcLMc9qWaAUlNT4eHhccO4h4cHTp48KSCRedu/f7/oCKrFbdM8bpvmcds0j9umedw2f45UBaiwsBD29vY3jDs4OKCiogLV1dUCUpkvvumax23TPG6b5nHbNI/bpnncNn+OVAWIiIiICJCsADk5OaGsrOyG8dLSUtja2sLKykpAKiIiImpt0l0EfebMGWRmZjYab+kiaCIiIpnIUA0sRAdoTaNHj8b06dNx/vx5dOnSBQCQn5+P06dPY9WqVTf9Hhl2AiIiItlINQNkMBgQFBQEHx8fbN26FRqNBi+//DIOHz6Mn376Cba2tqIjEhERUSuQ6hogvV6PvXv3QqfTwdfXF71798a1a9fw7bffsvwQERFJRKoZILoz8vLyEBISgj179sBkMomOQ3RPeeSRR3Do0CFkZ2fXn6onojtPqhmg28UFU5u3Y8cODBo0CJmZmbxAvIGUlBSEhobC19cXffv2RZ8+fTBnzhwUFhaKjiZcZmYmFi5ciMDAQAQFBcHLywvBwcHYtWuX6Giqk5iYiEOHDvG99ZucnBzY29sjICCg/k///v0REBCA0tJS0fGES0xMxKOPPoqgoCD06NEDQUFBSEhIEB3LfCjUyPXr1xV/f39l3LhxislkUkwmkzJlyhTF09NTKS8vFx1PuIEDBypnz55Vpk6dqmi1WtFxVMPLy0sZM2aMUllZqSiKouTm5ire3t6Kl5eXUlVVJTidWBs2bFA6d+6sZGZm1o9FRkYqOp1O+f777wUmU5fr168rnp6eylNPPaVotVolJydHdCThsrOzlSFDhoiOoUpr165VBgwYoOTm5iqKoig1NTXKxIkTlZCQEMHJzAdngJrggqm3dujQIfTo0UN0DNXRarWIjo6GtbU1AMDNzQ1hYWHIyMiQfqajY8eOWLp0aaNlaMLDw2EymfD5558LTKYuGzZswP3334/AwEDRUUjlsrOzERkZiffffx9ubm4AAJ1Oh5iYGMyaNUtwOvMh1W3wt2PHjh3o0qULunbtWj/m4uICX19fJCYmYsGCBQLTiafVsjPfTGpqKiwsGr+d3N3doSgKiouLBaVSh2efffaGsZKSEgBAhw4dWjuOKhUVFSEmJgZHjx5FXFyc6DikcvHx8Wjfvj0CAgIajbu6usLV1VVQKvPDo1kTXDCV/oym5QcAzpw5A61Wi+DgYAGJ1OvSpUuYNWsWAgMDMWPGDNFxVGH58uV48cUX0blzZ9FRVOfy5cuYPHkyHnjgAXh7e2PixIlIS0sTHUuoI0eOoFu3btixYweCg4Ph6+uLhx56CJs3bxYdzaywADXBBVPpTjCZTIiLi8O0adPQs2dP0XFUITMzE56enujSpQtMJhM+/fRT2NnZiY4lXEZGBrZv347FixeLjqI6Op0Oer0eCxYswLFjx/Djjz9Cr9fjgQcewIkTJ0THE+bChQtIS0vDmjVrkJiYiPT0dMybNw+hoaFYsWKF6HhmgwWI6C5Yvnw5LC0tERsbKzqKanTv3h0ZGRkoKSmBp6cn/P39b7r8jGwiIiIQGRl50w9esuvUqRNSUlLQr18/AICdnR3ee+89tGnTRurCWFVVhYqKCsTExMDZ2RkAMGbMGDzzzDN46623UFVVJTiheWABaoILptJftXnzZmzfvh1ff/01bGxsRMdRHTs7O8TGxsLFxUX6U2AHDhxAWloapk+fXj+m8NFst2RtbQ0/Pz8cPXpUdBRh6spy3759G433798fFRUVSE9PFxHL7LAANeHv74/s7OwbxrOysuDn59f6gcisxMfHIzY2Fvv27YOjo6PoOKrQ3KdRPz8/pKWlwWAwtHIi9fjmm29gMpkQFBRU/4ybjRs3AgD+9re/ISAgAF9//bXglOKUlpbedP/Q6XQwGo0CEqmDt7c3ANzwIFqdTnfTcbo5FqAmRo8ejZycHJw/f75+rG7B1DFjxghMRmq3detWrF69GklJSfXT0jt37sSmTZsEJxNr5MiROHbs2A3jWVlZcHBwgF6vF5BKHZYtW4aMjAwkJycjOTkZP/30U/1s0FdffYXk5GSMGDFCcEpx5syZg8TExEZjBoMBJ0+exIABAwSlEm/UqFEAam/aaejkyZOwsbFB7969RcQyOyxATUydOhV+fn4IDw+H0WiEyWRCREQEunfv3miaWnacpm8sISEBoaGhmDp1Kvbs2YOEhAQkJCTgyy+/RF5enuh4wkVFRaGoqKj+v9evX48TJ05gzpw5AlOpU917i5/ia8XExODy5csAAKPRiIULF6KwsBBRUVGCk4kzfvx4BAUFYcmSJSgvLwdQezo1MTERS5Ys4an328S1wG6ioKAA8+bNw/Hjx6HVatGnTx+sW7cOHTt2FB1NuEWLFmHv3r24cOECiouL689B//DDDze9FVwWjo6OuHr16k1fi4qKwhtvvNHKidTjyJEj+OCDD3D8+HFYWFigsrISTk5OmDlzJp5//nnR8VTjq6++wuLFi5Gfn4/8/Hz4+PjA0tISycnJoqMJc+rUKWzcuBEHDhyAoii4cuUKfHx8sGTJEukfL3H16lWEh4dj9+7dsLGxgZWVFWbPno2XXnpJdDSzwQJERERE0uEpMCIiIpIOCxARERFJhwWIiIiIpMMCRERERNJhASIiIiLpsAARERGRdFiAiIiISDosQERERCQdFiAiIiKSDgsQERERSYcFiIiIiKTDAkRERETSYQEiIiIi6bAAERERkXRYgIiIiEg6LEBEREQkHRYgIiIikg4LEBEREUmHBYiIiIikwwJERERE0mEBIiIiIumwABEREZF0WICIiIhIOixAREREJB0WICIiIpIOCxARERFJhwWIiIiIpMMCRERERNJhASIiIiLpsAARERGRdFiAiIiISDosQERERCQdFiAiIiKSDgsQERERSYcFiIiIiKTDAkRERETS+X9PPAiMiRpp7AAAAABJRU5ErkJggg==\"\n",
       "\n",
       "\n",
       "    /* set a timeout to make sure all the above elements are created before\n",
       "       the object is initialized. */\n",
       "    setTimeout(function() {\n",
       "        animHYAYBIITNVRIEYFW = new Animation(frames, img_id, slider_id, 100, loop_select_id);\n",
       "    }, 0);\n",
       "  })()\n",
       "</script>\n"
      ],
      "text/plain": [
       "<matplotlib.animation.FuncAnimation at 0x7f7ea8100828>"
      ]
     },
     "execution_count": 30,
     "metadata": {},
     "output_type": "execute_result"
    }
   ],
   "source": [
    "fig = pyplot.figure(figsize=(8,6))\n",
    "ax = pyplot.axes(xlim=(0,2*numpy.pi), ylim=(0,10))\n",
    "line = ax.plot([], [], color='#003366', ls='--', lw=3)[0]\n",
    "line2 = ax.plot([], [], 'k-', lw=2)[0]\n",
    "ax.legend(['Computed','Analytical'])\n",
    "\n",
    "def burgers(n):\n",
    "       \n",
    "    un = u.copy()\n",
    "        \n",
    "    u[1:-1] = un[1:-1] - un[1:-1] * dt/dx * (un[1:-1] - un[:-2]) + nu*dt/dx**2*\\\n",
    "                    (un[2:] - 2*un[1:-1] + un[:-2])\n",
    "\n",
    "    u[0] = un[0] - un[0] * dt/dx * (un[0] - un[-1]) + nu*dt/dx**2*\\\n",
    "                (un[1] - 2*un[0] + un[-1])\n",
    "    u[-1] = un[-1] - un[-1] * dt/dx * (un[-1] - un[-2]) + nu*dt/dx**2*\\\n",
    "                (un[0]- 2*un[-1] + un[-2])\n",
    "        \n",
    "    u_analytical = numpy.asarray([u_lamb(n*dt, xi, nu) for xi in x])\n",
    "    line.set_data(x,u)\n",
    "    line2.set_data(x, u_analytical)\n",
    "    \n",
    "\n",
    "animation.FuncAnimation(fig, burgers,\n",
    "                        frames=nt, interval=100)"
   ]
  },
  {
   "cell_type": "markdown",
   "metadata": {},
   "source": [
    "## Array Operation Speed Increase"
   ]
  },
  {
   "cell_type": "markdown",
   "metadata": {},
   "source": [
    "Coding up discretization schemes using array operations can be a bit of a pain.  It requires much more mental effort on the front-end than using two nested `for` loops.  So why do we do it?  Because it's fast.  Very, very fast.\n",
    "\n",
    "Here's what the Burgers code looks like using two nested `for` loops.  It's easier to write out, plus we only have to add one \"special\" condition to implement the periodic boundaries.  \n",
    "\n",
    "At the top of the cell, you'll see the decorator `%%timeit`.\n",
    "This is called a \"cell magic\".  It runs the cell several times and returns the average execution time for the contained code.  \n",
    "\n",
    "Let's see how long the nested `for` loops take to finish."
   ]
  },
  {
   "cell_type": "code",
   "execution_count": 31,
   "metadata": {
    "collapsed": false
   },
   "outputs": [
    {
     "name": "stdout",
     "output_type": "stream",
     "text": [
      "10 loops, best of 3: 18.9 ms per loop\n"
     ]
    }
   ],
   "source": [
    "%%timeit\n",
    "\n",
    "u = numpy.asarray([u_lamb(t, x0, nu) for x0 in x])\n",
    "\n",
    "for n in range(nt):\n",
    "    un = u.copy()\n",
    "    \n",
    "    for i in range(nx-1):\n",
    "        u[i] = un[i] - un[i] * dt/dx *(un[i] - un[i-1]) + nu*dt/dx**2*\\\n",
    "                (un[i+1]-2*un[i]+un[i-1])\n",
    "    \n",
    "    u[-1] = un[-1] - un[-1] * dt/dx * (un[-1] - un[-2]) + nu*dt/dx**2*\\\n",
    "                (un[0]- 2*un[-1] + un[-2])\n",
    "    "
   ]
  },
  {
   "cell_type": "markdown",
   "metadata": {},
   "source": [
    "Less than 50 milliseconds.  Not bad, really.  \n",
    "\n",
    "Now let's look at the array operations code cell.  Notice that we haven't changed anything, except we've added the `%%timeit` magic and we're also resetting the array `u` to its initial conditions.  \n",
    "\n",
    "This takes longer to code and we have to add two special conditions to take care of the periodic boundaries.  Was it worth it?"
   ]
  },
  {
   "cell_type": "code",
   "execution_count": 32,
   "metadata": {
    "collapsed": false
   },
   "outputs": [
    {
     "name": "stdout",
     "output_type": "stream",
     "text": [
      "100 loops, best of 3: 1.91 ms per loop\n"
     ]
    }
   ],
   "source": [
    "%%timeit\n",
    "\n",
    "u = numpy.asarray([u_lamb(t, x0, nu) for x0 in x])\n",
    "\n",
    "for n in range(nt):\n",
    "    un = u.copy()\n",
    "    \n",
    "    u[1:-1] = un[1:-1] - un[1:-1] * dt/dx * (un[1:-1] - un[:-2]) + nu*dt/dx**2*\\\n",
    "                    (un[2:] - 2*un[1:-1] + un[:-2])\n",
    "\n",
    "    u[0] = un[0] - un[0] * dt/dx * (un[0] - un[-1]) + nu*dt/dx**2*\\\n",
    "                (un[1] - 2*un[0] + un[-1])\n",
    "    u[-1] = un[-1] - un[-1] * dt/dx * (un[-1] - un[-2]) + nu*dt/dx**2*\\\n",
    "                (un[0]- 2*un[-1] + un[-2])\n"
   ]
  },
  {
   "cell_type": "markdown",
   "metadata": {},
   "source": [
    "Yes, it is absolutely worth it.  That's a nine-fold speed increase.  For this exercise, you probably won't miss the extra 40 milliseconds if you use the nested `for` loops, but what about a simulation that has to run through millions and millions of iterations?  Then that little extra effort at the beginning will definitely pay off.  "
   ]
  },
  {
   "cell_type": "markdown",
   "metadata": {},
   "source": [
    "---\n",
    "\n",
    "###### The cell below loads the style of the notebook."
   ]
  },
  {
   "cell_type": "code",
   "execution_count": 23,
   "metadata": {
    "collapsed": false
   },
   "outputs": [
    {
     "data": {
      "text/html": [
       "<link href='http://fonts.googleapis.com/css?family=Alegreya+Sans:100,300,400,500,700,800,900,100italic,300italic,400italic,500italic,700italic,800italic,900italic' rel='stylesheet' type='text/css'>\n",
       "<link href='http://fonts.googleapis.com/css?family=Arvo:400,700,400italic' rel='stylesheet' type='text/css'>\n",
       "<link href='http://fonts.googleapis.com/css?family=PT+Mono' rel='stylesheet' type='text/css'>\n",
       "<link href='http://fonts.googleapis.com/css?family=Shadows+Into+Light' rel='stylesheet' type='text/css'>\n",
       "<link href='http://fonts.googleapis.com/css?family=Nixie+One' rel='stylesheet' type='text/css'>\n",
       "<style>\n",
       "\n",
       "@font-face {\n",
       "    font-family: \"Computer Modern\";\n",
       "    src: url('http://mirrors.ctan.org/fonts/cm-unicode/fonts/otf/cmunss.otf');\n",
       "}\n",
       "\n",
       "#notebook_panel { /* main background */\n",
       "    background: rgb(245,245,245);\n",
       "}\n",
       "\n",
       "div.cell { /* set cell width */\n",
       "    width: 750px;\n",
       "}\n",
       "\n",
       "div #notebook { /* centre the content */\n",
       "    background: #fff; /* white background for content */\n",
       "    width: 1000px;\n",
       "    margin: auto;\n",
       "    padding-left: 0em;\n",
       "}\n",
       "\n",
       "#notebook li { /* More space between bullet points */\n",
       "    margin-top:0.8em;\n",
       "}\n",
       "\n",
       "/* draw border around running cells */\n",
       "div.cell.border-box-sizing.code_cell.running { \n",
       "    border: 1px solid #111;\n",
       "}\n",
       "\n",
       "/* Put a solid color box around each cell and its output, visually linking them*/\n",
       "div.cell.code_cell {\n",
       "    background-color: rgb(256,256,256); \n",
       "    border-radius: 0px; \n",
       "    padding: 0.5em;\n",
       "    margin-left:1em;\n",
       "    margin-top: 1em;\n",
       "}\n",
       "\n",
       "div.text_cell_render{\n",
       "    font-family: 'Alegreya Sans' sans-serif;\n",
       "    line-height: 140%;\n",
       "    font-size: 125%;\n",
       "    font-weight: 400;\n",
       "    width:600px;\n",
       "    margin-left:auto;\n",
       "    margin-right:auto;\n",
       "}\n",
       "\n",
       "\n",
       "/* Formatting for header cells */\n",
       ".text_cell_render h1 {\n",
       "    font-family: 'Nixie One', serif;\n",
       "    font-style:regular;\n",
       "    font-weight: 400;    \n",
       "    font-size: 45pt;\n",
       "    line-height: 100%;\n",
       "    color: rgb(0,51,102);\n",
       "    margin-bottom: 0.5em;\n",
       "    margin-top: 0.5em;\n",
       "    display: block;\n",
       "}\n",
       "\n",
       ".text_cell_render h2 {\n",
       "    font-family: 'Nixie One', serif;\n",
       "    font-weight: 400;\n",
       "    font-size: 30pt;\n",
       "    line-height: 100%;\n",
       "    color: rgb(0,51,102);\n",
       "    margin-bottom: 0.1em;\n",
       "    margin-top: 0.3em;\n",
       "    display: block;\n",
       "}\t\n",
       "\n",
       ".text_cell_render h3 {\n",
       "    font-family: 'Nixie One', serif;\n",
       "    margin-top:16px;\n",
       "    font-size: 22pt;\n",
       "    font-weight: 600;\n",
       "    margin-bottom: 3px;\n",
       "    font-style: regular;\n",
       "    color: rgb(102,102,0);\n",
       "}\n",
       "\n",
       ".text_cell_render h4 {    /*Use this for captions*/\n",
       "    font-family: 'Nixie One', serif;\n",
       "    font-size: 14pt;\n",
       "    text-align: center;\n",
       "    margin-top: 0em;\n",
       "    margin-bottom: 2em;\n",
       "    font-style: regular;\n",
       "}\n",
       "\n",
       ".text_cell_render h5 {  /*Use this for small titles*/\n",
       "    font-family: 'Nixie One', sans-serif;\n",
       "    font-weight: 400;\n",
       "    font-size: 16pt;\n",
       "    color: rgb(163,0,0);\n",
       "    font-style: italic;\n",
       "    margin-bottom: .1em;\n",
       "    margin-top: 0.8em;\n",
       "    display: block;\n",
       "}\n",
       "\n",
       ".text_cell_render h6 { /*use this for copyright note*/\n",
       "    font-family: 'PT Mono', sans-serif;\n",
       "    font-weight: 300;\n",
       "    font-size: 9pt;\n",
       "    line-height: 100%;\n",
       "    color: grey;\n",
       "    margin-bottom: 1px;\n",
       "    margin-top: 1px;\n",
       "}\n",
       "\n",
       ".CodeMirror{\n",
       "    font-family: \"PT Mono\";\n",
       "    font-size: 90%;\n",
       "}\n",
       "\n",
       "</style>\n",
       "<script>\n",
       "    MathJax.Hub.Config({\n",
       "                        TeX: {\n",
       "                           extensions: [\"AMSmath.js\"],\n",
       "                           equationNumbers: { autoNumber: \"AMS\", useLabelIds: true}\n",
       "                           },\n",
       "                tex2jax: {\n",
       "                    inlineMath: [ ['$','$'], [\"\\\\(\",\"\\\\)\"] ],\n",
       "                    displayMath: [ ['$$','$$'], [\"\\\\[\",\"\\\\]\"] ]\n",
       "                },\n",
       "                displayAlign: 'center', // Change this to 'center' to center equations.\n",
       "                \"HTML-CSS\": {\n",
       "                    styles: {'.MathJax_Display': {\"margin\": 4}}\n",
       "                }\n",
       "        });\n",
       "</script>\n"
      ],
      "text/plain": [
       "<IPython.core.display.HTML object>"
      ]
     },
     "execution_count": 23,
     "metadata": {},
     "output_type": "execute_result"
    }
   ],
   "source": [
    "from IPython.core.display import HTML\n",
    "css_file = '../../styles/numericalmoocstyle.css'\n",
    "HTML(open(css_file, \"r\").read())"
   ]
  }
 ],
 "metadata": {
  "kernelspec": {
   "display_name": "Python 3",
   "language": "python",
   "name": "python3"
  },
  "language_info": {
   "codemirror_mode": {
    "name": "ipython",
    "version": 3
   },
   "file_extension": ".py",
   "mimetype": "text/x-python",
   "name": "python",
   "nbconvert_exporter": "python",
   "pygments_lexer": "ipython3",
   "version": "3.5.1"
  }
 },
 "nbformat": 4,
 "nbformat_minor": 0
}
